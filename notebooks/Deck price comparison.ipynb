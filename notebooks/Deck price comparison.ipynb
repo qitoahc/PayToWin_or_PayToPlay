{
 "cells": [
  {
   "cell_type": "code",
   "execution_count": 247,
   "id": "surprising-macro",
   "metadata": {},
   "outputs": [],
   "source": [
    "import pandas as pd\n",
    "import numpy as np\n",
    "import matplotlib.pyplot as plt\n",
    "%matplotlib inline\n",
    "plt.style.use(\"ggplot\")\n",
    "import sys\n",
    "import os\n",
    "import psycopg2 as psy\n",
    "from psycopg2 import sql\n",
    "from io import StringIO\n",
    "import sqlalchemy\n",
    "from sqlalchemy import create_engine\n",
    "module_path = os.path.abspath(os.path.join('..'))\n",
    "if module_path not in sys.path:\n",
    "    sys.path.append(module_path+\"/src\")\n",
    "import mtg_helpers as mtgh\n",
    "import scipy.stats as stats\n",
    "\n",
    "\n",
    "con_details = {\"dbname\" : 'pay_to_play', \n",
    "               \"user\" : os.environ['PGSQL_P_USER'], \n",
    "               \"password\" : os.environ['PGSQL_P_PWD'], \n",
    "               \"host\" : 'localhost'} \n"
   ]
  },
  {
   "cell_type": "code",
   "execution_count": 2,
   "id": "impressive-snapshot",
   "metadata": {},
   "outputs": [
    {
     "name": "stdout",
     "output_type": "stream",
     "text": [
      "Connecting to PostgreSQL database...\n",
      "Connection successful\n"
     ]
    }
   ],
   "source": [
    "conn = mtgh.connect(con_details)"
   ]
  },
  {
   "cell_type": "markdown",
   "id": "expired-nancy",
   "metadata": {},
   "source": [
    "### Let's start by exploring quickly the total card set data"
   ]
  },
  {
   "cell_type": "code",
   "execution_count": 3,
   "id": "artistic-happiness",
   "metadata": {},
   "outputs": [],
   "source": [
    "query = sql.SQL(\n",
    "    \"\"\"SELECT \n",
    "            core.uuid, core.name, core.rarity, core.\"setCode\", core.\"keywords\", core.\"convertedManaCost\", \n",
    "            core.type, core.power, core.toughness, core.subtypes, core.supertypes, \n",
    "            setdetails.setname, setdetails.setreleasedate, fixed_prices.price, fixed_prices.\"price_date\"\n",
    "    FROM core\n",
    "    LEFT JOIN fixed_prices ON core.uuid = fixed_prices.uuid\n",
    "    JOIN setdetails  ON core.\"setCode\" = setdetails.setcode\"\"\")\n",
    "card_df = pd.read_sql(query, conn)"
   ]
  },
  {
   "cell_type": "code",
   "execution_count": 4,
   "id": "widespread-alcohol",
   "metadata": {},
   "outputs": [
    {
     "data": {
      "text/html": [
       "<div>\n",
       "<style scoped>\n",
       "    .dataframe tbody tr th:only-of-type {\n",
       "        vertical-align: middle;\n",
       "    }\n",
       "\n",
       "    .dataframe tbody tr th {\n",
       "        vertical-align: top;\n",
       "    }\n",
       "\n",
       "    .dataframe thead th {\n",
       "        text-align: right;\n",
       "    }\n",
       "</style>\n",
       "<table border=\"1\" class=\"dataframe\">\n",
       "  <thead>\n",
       "    <tr style=\"text-align: right;\">\n",
       "      <th></th>\n",
       "      <th>convertedManaCost</th>\n",
       "      <th>price</th>\n",
       "    </tr>\n",
       "  </thead>\n",
       "  <tbody>\n",
       "    <tr>\n",
       "      <th>count</th>\n",
       "      <td>3705.000000</td>\n",
       "      <td>3536.000000</td>\n",
       "    </tr>\n",
       "    <tr>\n",
       "      <th>mean</th>\n",
       "      <td>3.043185</td>\n",
       "      <td>1.819762</td>\n",
       "    </tr>\n",
       "    <tr>\n",
       "      <th>std</th>\n",
       "      <td>1.841967</td>\n",
       "      <td>4.962194</td>\n",
       "    </tr>\n",
       "    <tr>\n",
       "      <th>min</th>\n",
       "      <td>0.000000</td>\n",
       "      <td>0.150000</td>\n",
       "    </tr>\n",
       "    <tr>\n",
       "      <th>25%</th>\n",
       "      <td>2.000000</td>\n",
       "      <td>0.250000</td>\n",
       "    </tr>\n",
       "    <tr>\n",
       "      <th>50%</th>\n",
       "      <td>3.000000</td>\n",
       "      <td>0.250000</td>\n",
       "    </tr>\n",
       "    <tr>\n",
       "      <th>75%</th>\n",
       "      <td>4.000000</td>\n",
       "      <td>0.990000</td>\n",
       "    </tr>\n",
       "    <tr>\n",
       "      <th>max</th>\n",
       "      <td>12.000000</td>\n",
       "      <td>109.990000</td>\n",
       "    </tr>\n",
       "  </tbody>\n",
       "</table>\n",
       "</div>"
      ],
      "text/plain": [
       "       convertedManaCost        price\n",
       "count        3705.000000  3536.000000\n",
       "mean            3.043185     1.819762\n",
       "std             1.841967     4.962194\n",
       "min             0.000000     0.150000\n",
       "25%             2.000000     0.250000\n",
       "50%             3.000000     0.250000\n",
       "75%             4.000000     0.990000\n",
       "max            12.000000   109.990000"
      ]
     },
     "execution_count": 4,
     "metadata": {},
     "output_type": "execute_result"
    }
   ],
   "source": [
    "card_df.describe()"
   ]
  },
  {
   "cell_type": "markdown",
   "id": "liked-brain",
   "metadata": {},
   "source": [
    "### This gives a nice view to the ranges of price and converted mana cost across all the cards in this analysis."
   ]
  },
  {
   "cell_type": "code",
   "execution_count": 5,
   "id": "western-ownership",
   "metadata": {},
   "outputs": [
    {
     "name": "stdout",
     "output_type": "stream",
     "text": [
      "<class 'pandas.core.frame.DataFrame'>\n",
      "RangeIndex: 3705 entries, 0 to 3704\n",
      "Data columns (total 15 columns):\n",
      " #   Column             Non-Null Count  Dtype  \n",
      "---  ------             --------------  -----  \n",
      " 0   uuid               3705 non-null   object \n",
      " 1   name               3705 non-null   object \n",
      " 2   rarity             3705 non-null   object \n",
      " 3   setCode            3705 non-null   object \n",
      " 4   keywords           1521 non-null   object \n",
      " 5   convertedManaCost  3705 non-null   float64\n",
      " 6   type               3705 non-null   object \n",
      " 7   power              1850 non-null   object \n",
      " 8   toughness          1850 non-null   object \n",
      " 9   subtypes           3705 non-null   object \n",
      " 10  supertypes         3705 non-null   object \n",
      " 11  setname            3705 non-null   object \n",
      " 12  setreleasedate     3705 non-null   object \n",
      " 13  price              3536 non-null   float64\n",
      " 14  price_date         3536 non-null   object \n",
      "dtypes: float64(2), object(13)\n",
      "memory usage: 434.3+ KB\n"
     ]
    }
   ],
   "source": [
    "card_df.info()"
   ]
  },
  {
   "cell_type": "markdown",
   "id": "final-springfield",
   "metadata": {},
   "source": [
    "### Initial sense of the completness of each key column for potential analysis. Some 'gaps' are expected/explainable in that keywords, power, and toughness tend to only apply to creature-types and thus a ~50% null rate is to be expected.  Because of either the inherent nature of the data or custom behavior on some MTG cards, there are very few fields that can be of numeric types.  Of note would be the power and toughness columns as for creatures these are typically integers except for some creatures that have variable values based on the state of the game and are represented as asterisks.  Can still do numerical analysis on these fields by limiting to just those values with pre-defined integer values and casting to int type.  Biggest 'issue' will ultimately be around the ~150 cards that didn't have prices available from the target price source."
   ]
  },
  {
   "cell_type": "markdown",
   "id": "wrong-river",
   "metadata": {},
   "source": [
    "### Ultimately wanting to test our hypothesis that the world champion decks do not cost more than other successful, but amateur, decks.  So let's now look quickly at our deck data."
   ]
  },
  {
   "cell_type": "code",
   "execution_count": 6,
   "id": "further-partner",
   "metadata": {},
   "outputs": [],
   "source": [
    "query = sql.SQL(\n",
    "    \"\"\"SELECT decklists.deckname, core.uuid, core.name, \n",
    "    decklists.card_count, decklists.sideboard, core.rarity, \n",
    "    core.\"setCode\", core.\"keywords\", core.\"convertedManaCost\", \n",
    "    core.type, core.power, core.toughness, core.subtypes, core.supertypes, \n",
    "    setdetails.setname, setdetails.setreleasedate, fixed_prices.price, fixed_prices.\"price_date\"\n",
    "FROM core\n",
    "LEFT JOIN fixed_prices ON core.uuid = fixed_prices.uuid\n",
    "JOIN setdetails  ON core.\"setCode\" = setdetails.setcode\n",
    "JOIN decklists ON core.uuid = decklists.uuid\"\"\")\n",
    "decks_df = pd.read_sql(query, conn)"
   ]
  },
  {
   "cell_type": "code",
   "execution_count": 7,
   "id": "accepted-sword",
   "metadata": {},
   "outputs": [
    {
     "data": {
      "text/html": [
       "<div>\n",
       "<style scoped>\n",
       "    .dataframe tbody tr th:only-of-type {\n",
       "        vertical-align: middle;\n",
       "    }\n",
       "\n",
       "    .dataframe tbody tr th {\n",
       "        vertical-align: top;\n",
       "    }\n",
       "\n",
       "    .dataframe thead th {\n",
       "        text-align: right;\n",
       "    }\n",
       "</style>\n",
       "<table border=\"1\" class=\"dataframe\">\n",
       "  <thead>\n",
       "    <tr style=\"text-align: right;\">\n",
       "      <th></th>\n",
       "      <th>card_count</th>\n",
       "      <th>convertedManaCost</th>\n",
       "      <th>price</th>\n",
       "    </tr>\n",
       "  </thead>\n",
       "  <tbody>\n",
       "    <tr>\n",
       "      <th>count</th>\n",
       "      <td>1144.000000</td>\n",
       "      <td>1144.000000</td>\n",
       "      <td>1060.000000</td>\n",
       "    </tr>\n",
       "    <tr>\n",
       "      <th>mean</th>\n",
       "      <td>2.890734</td>\n",
       "      <td>2.311189</td>\n",
       "      <td>4.218528</td>\n",
       "    </tr>\n",
       "    <tr>\n",
       "      <th>std</th>\n",
       "      <td>1.968106</td>\n",
       "      <td>1.908038</td>\n",
       "      <td>7.551366</td>\n",
       "    </tr>\n",
       "    <tr>\n",
       "      <th>min</th>\n",
       "      <td>1.000000</td>\n",
       "      <td>0.000000</td>\n",
       "      <td>0.150000</td>\n",
       "    </tr>\n",
       "    <tr>\n",
       "      <th>25%</th>\n",
       "      <td>2.000000</td>\n",
       "      <td>1.000000</td>\n",
       "      <td>0.250000</td>\n",
       "    </tr>\n",
       "    <tr>\n",
       "      <th>50%</th>\n",
       "      <td>3.000000</td>\n",
       "      <td>2.000000</td>\n",
       "      <td>0.990000</td>\n",
       "    </tr>\n",
       "    <tr>\n",
       "      <th>75%</th>\n",
       "      <td>4.000000</td>\n",
       "      <td>3.000000</td>\n",
       "      <td>4.615000</td>\n",
       "    </tr>\n",
       "    <tr>\n",
       "      <th>max</th>\n",
       "      <td>20.000000</td>\n",
       "      <td>9.000000</td>\n",
       "      <td>64.990000</td>\n",
       "    </tr>\n",
       "  </tbody>\n",
       "</table>\n",
       "</div>"
      ],
      "text/plain": [
       "        card_count  convertedManaCost        price\n",
       "count  1144.000000        1144.000000  1060.000000\n",
       "mean      2.890734           2.311189     4.218528\n",
       "std       1.968106           1.908038     7.551366\n",
       "min       1.000000           0.000000     0.150000\n",
       "25%       2.000000           1.000000     0.250000\n",
       "50%       3.000000           2.000000     0.990000\n",
       "75%       4.000000           3.000000     4.615000\n",
       "max      20.000000           9.000000    64.990000"
      ]
     },
     "execution_count": 7,
     "metadata": {},
     "output_type": "execute_result"
    }
   ],
   "source": [
    "decks_df.describe()"
   ]
  },
  {
   "cell_type": "code",
   "execution_count": 8,
   "id": "infrared-tulsa",
   "metadata": {},
   "outputs": [
    {
     "name": "stdout",
     "output_type": "stream",
     "text": [
      "<class 'pandas.core.frame.DataFrame'>\n",
      "RangeIndex: 1144 entries, 0 to 1143\n",
      "Data columns (total 18 columns):\n",
      " #   Column             Non-Null Count  Dtype  \n",
      "---  ------             --------------  -----  \n",
      " 0   deckname           1144 non-null   object \n",
      " 1   uuid               1144 non-null   object \n",
      " 2   name               1144 non-null   object \n",
      " 3   card_count         1144 non-null   int64  \n",
      " 4   sideboard          1144 non-null   bool   \n",
      " 5   rarity             1144 non-null   object \n",
      " 6   setCode            1144 non-null   object \n",
      " 7   keywords           377 non-null    object \n",
      " 8   convertedManaCost  1144 non-null   float64\n",
      " 9   type               1144 non-null   object \n",
      " 10  power              320 non-null    object \n",
      " 11  toughness          320 non-null    object \n",
      " 12  subtypes           1144 non-null   object \n",
      " 13  supertypes         1144 non-null   object \n",
      " 14  setname            1144 non-null   object \n",
      " 15  setreleasedate     1144 non-null   object \n",
      " 16  price              1060 non-null   float64\n",
      " 17  price_date         1060 non-null   object \n",
      "dtypes: bool(1), float64(2), int64(1), object(14)\n",
      "memory usage: 153.2+ KB\n"
     ]
    }
   ],
   "source": [
    "decks_df.info()"
   ]
  },
  {
   "cell_type": "markdown",
   "id": "sufficient-forty",
   "metadata": {},
   "source": [
    "### Unfortunately, the decision to limit pricing to a single source prevented complete acquisition of price data for each card.  Need to explore the perspective of deck data that only has prices and decide on an approach for moving forward.  Will compile a deck-based df that breaks out core vs. sideboard cards  and show card counts, total prices, and avg. price per card in each category.\n"
   ]
  },
  {
   "cell_type": "code",
   "execution_count": 9,
   "id": "hollow-coordinator",
   "metadata": {},
   "outputs": [
    {
     "data": {
      "text/html": [
       "<div>\n",
       "<style scoped>\n",
       "    .dataframe tbody tr th:only-of-type {\n",
       "        vertical-align: middle;\n",
       "    }\n",
       "\n",
       "    .dataframe tbody tr th {\n",
       "        vertical-align: top;\n",
       "    }\n",
       "\n",
       "    .dataframe thead th {\n",
       "        text-align: right;\n",
       "    }\n",
       "</style>\n",
       "<table border=\"1\" class=\"dataframe\">\n",
       "  <thead>\n",
       "    <tr style=\"text-align: right;\">\n",
       "      <th></th>\n",
       "      <th>deckname</th>\n",
       "      <th>card_count</th>\n",
       "      <th>price</th>\n",
       "      <th>sideboard</th>\n",
       "      <th>total_card_price</th>\n",
       "    </tr>\n",
       "  </thead>\n",
       "  <tbody>\n",
       "    <tr>\n",
       "      <th>0</th>\n",
       "      <td>Platinum-Mythic-Rank-Player-Traditional-(Bo3)(19)</td>\n",
       "      <td>4</td>\n",
       "      <td>0.25</td>\n",
       "      <td>False</td>\n",
       "      <td>1.00</td>\n",
       "    </tr>\n",
       "    <tr>\n",
       "      <th>1</th>\n",
       "      <td>Platinum-Mythic-Rank-Player-Traditional-(Bo3)(1)</td>\n",
       "      <td>3</td>\n",
       "      <td>0.25</td>\n",
       "      <td>True</td>\n",
       "      <td>0.75</td>\n",
       "    </tr>\n",
       "    <tr>\n",
       "      <th>2</th>\n",
       "      <td>Ondřej-Stráský-Azorius-Control-Magic-World-Cha...</td>\n",
       "      <td>2</td>\n",
       "      <td>0.25</td>\n",
       "      <td>True</td>\n",
       "      <td>0.50</td>\n",
       "    </tr>\n",
       "    <tr>\n",
       "      <th>3</th>\n",
       "      <td>Paulo-Vitor-Damo-da-Rosa-Azorius-Control-Magic...</td>\n",
       "      <td>2</td>\n",
       "      <td>0.25</td>\n",
       "      <td>True</td>\n",
       "      <td>0.50</td>\n",
       "    </tr>\n",
       "    <tr>\n",
       "      <th>4</th>\n",
       "      <td>Matias-Leveratto-Temur-Reclamation-Magic-World...</td>\n",
       "      <td>3</td>\n",
       "      <td>0.39</td>\n",
       "      <td>True</td>\n",
       "      <td>1.17</td>\n",
       "    </tr>\n",
       "  </tbody>\n",
       "</table>\n",
       "</div>"
      ],
      "text/plain": [
       "                                            deckname  card_count  price  \\\n",
       "0  Platinum-Mythic-Rank-Player-Traditional-(Bo3)(19)           4   0.25   \n",
       "1   Platinum-Mythic-Rank-Player-Traditional-(Bo3)(1)           3   0.25   \n",
       "2  Ondřej-Stráský-Azorius-Control-Magic-World-Cha...           2   0.25   \n",
       "3  Paulo-Vitor-Damo-da-Rosa-Azorius-Control-Magic...           2   0.25   \n",
       "4  Matias-Leveratto-Temur-Reclamation-Magic-World...           3   0.39   \n",
       "\n",
       "   sideboard  total_card_price  \n",
       "0      False              1.00  \n",
       "1       True              0.75  \n",
       "2       True              0.50  \n",
       "3       True              0.50  \n",
       "4       True              1.17  "
      ]
     },
     "execution_count": 9,
     "metadata": {},
     "output_type": "execute_result"
    }
   ],
   "source": [
    "price_only = decks_df.loc[pd.notnull(decks_df['price']), ['deckname', 'card_count', 'price', 'sideboard']]\n",
    "price_only['total_card_price'] = price_only['card_count'] * price_only['price']\n",
    "price_only.head()"
   ]
  },
  {
   "cell_type": "code",
   "execution_count": 22,
   "id": "annual-modem",
   "metadata": {},
   "outputs": [
    {
     "data": {
      "text/html": [
       "<div>\n",
       "<style scoped>\n",
       "    .dataframe tbody tr th:only-of-type {\n",
       "        vertical-align: middle;\n",
       "    }\n",
       "\n",
       "    .dataframe tbody tr th {\n",
       "        vertical-align: top;\n",
       "    }\n",
       "\n",
       "    .dataframe thead th {\n",
       "        text-align: right;\n",
       "    }\n",
       "</style>\n",
       "<table border=\"1\" class=\"dataframe\">\n",
       "  <thead>\n",
       "    <tr style=\"text-align: right;\">\n",
       "      <th></th>\n",
       "      <th>deckname</th>\n",
       "      <th>core_card_count</th>\n",
       "      <th>core_deck_price</th>\n",
       "      <th>core_avg_card_price</th>\n",
       "      <th>sboard_card_count</th>\n",
       "      <th>sboard_deck_price</th>\n",
       "      <th>sboard_avg_card_price</th>\n",
       "      <th>world_comp</th>\n",
       "    </tr>\n",
       "  </thead>\n",
       "  <tbody>\n",
       "    <tr>\n",
       "      <th>39</th>\n",
       "      <td>Platinum-Mythic-Rank-Player-Traditional-(Bo3)(9)</td>\n",
       "      <td>59</td>\n",
       "      <td>250.35</td>\n",
       "      <td>4.243220</td>\n",
       "      <td>15</td>\n",
       "      <td>98.45</td>\n",
       "      <td>6.563333</td>\n",
       "      <td>False</td>\n",
       "    </tr>\n",
       "    <tr>\n",
       "      <th>40</th>\n",
       "      <td>Raphaël-Lévy-Jeskai-Fires-Magic-World-Champion...</td>\n",
       "      <td>57</td>\n",
       "      <td>313.59</td>\n",
       "      <td>5.501579</td>\n",
       "      <td>14</td>\n",
       "      <td>39.66</td>\n",
       "      <td>2.832857</td>\n",
       "      <td>True</td>\n",
       "    </tr>\n",
       "    <tr>\n",
       "      <th>41</th>\n",
       "      <td>Sebastián-Pozzo-Mono-Red-Aggro-Magic-World-Cha...</td>\n",
       "      <td>56</td>\n",
       "      <td>147.44</td>\n",
       "      <td>2.632857</td>\n",
       "      <td>15</td>\n",
       "      <td>6.87</td>\n",
       "      <td>0.458000</td>\n",
       "      <td>True</td>\n",
       "    </tr>\n",
       "    <tr>\n",
       "      <th>42</th>\n",
       "      <td>Seth-Manfield-Mono-Red-Aggro-Magic-World-Champ...</td>\n",
       "      <td>56</td>\n",
       "      <td>130.60</td>\n",
       "      <td>2.332143</td>\n",
       "      <td>15</td>\n",
       "      <td>5.23</td>\n",
       "      <td>0.348667</td>\n",
       "      <td>True</td>\n",
       "    </tr>\n",
       "    <tr>\n",
       "      <th>43</th>\n",
       "      <td>Thoralf-Severin-Azorius-Control-Magic-World-Ch...</td>\n",
       "      <td>60</td>\n",
       "      <td>238.76</td>\n",
       "      <td>3.979333</td>\n",
       "      <td>15</td>\n",
       "      <td>13.59</td>\n",
       "      <td>0.906000</td>\n",
       "      <td>True</td>\n",
       "    </tr>\n",
       "  </tbody>\n",
       "</table>\n",
       "</div>"
      ],
      "text/plain": [
       "                                             deckname  core_card_count  \\\n",
       "39   Platinum-Mythic-Rank-Player-Traditional-(Bo3)(9)               59   \n",
       "40  Raphaël-Lévy-Jeskai-Fires-Magic-World-Champion...               57   \n",
       "41  Sebastián-Pozzo-Mono-Red-Aggro-Magic-World-Cha...               56   \n",
       "42  Seth-Manfield-Mono-Red-Aggro-Magic-World-Champ...               56   \n",
       "43  Thoralf-Severin-Azorius-Control-Magic-World-Ch...               60   \n",
       "\n",
       "    core_deck_price  core_avg_card_price  sboard_card_count  \\\n",
       "39           250.35             4.243220                 15   \n",
       "40           313.59             5.501579                 14   \n",
       "41           147.44             2.632857                 15   \n",
       "42           130.60             2.332143                 15   \n",
       "43           238.76             3.979333                 15   \n",
       "\n",
       "    sboard_deck_price  sboard_avg_card_price  world_comp  \n",
       "39              98.45               6.563333       False  \n",
       "40              39.66               2.832857        True  \n",
       "41               6.87               0.458000        True  \n",
       "42               5.23               0.348667        True  \n",
       "43              13.59               0.906000        True  "
      ]
     },
     "execution_count": 22,
     "metadata": {},
     "output_type": "execute_result"
    }
   ],
   "source": [
    "core_price_only = price_only.loc[price_only['sideboard'] == False,:]\n",
    "core_deck_prices = core_price_only.loc[:,['deckname', 'card_count', 'total_card_price']].groupby('deckname').sum()\n",
    "core_deck_prices['core_avg_card_price'] = core_deck_prices['total_card_price'] / core_deck_prices['card_count']\n",
    "#core_deck_prices.rename(columns = {})\n",
    "core_deck_prices.rename(columns = {'card_count':'core_card_count','total_card_price':'core_deck_price'}, inplace = True)\n",
    "\n",
    "\n",
    "sboard_price_only = price_only.loc[price_only['sideboard'] == True,:]\n",
    "sboard_deck_prices = sboard_price_only.loc[:,['deckname', 'card_count', 'total_card_price']].groupby('deckname').sum()\n",
    "sboard_deck_prices['sboard_avg_card_price'] = sboard_deck_prices['total_card_price'] / sboard_deck_prices['card_count']\n",
    "sboard_deck_prices.rename(columns = {})\n",
    "sboard_deck_prices.rename(columns = {'card_count':'sboard_card_count','total_card_price':'sboard_deck_price'}, inplace = True)\n",
    "\n",
    "deck_prices = core_deck_prices.merge(sboard_deck_prices,how='inner',on='deckname').reset_index()\n",
    "deck_prices.head()\n",
    "deck_prices['world_comp'] = deck_prices['deckname'].apply(lambda x: x[:8] != 'Platinum')\n",
    "deck_prices.tail()"
   ]
  },
  {
   "cell_type": "code",
   "execution_count": 23,
   "id": "compact-dealing",
   "metadata": {},
   "outputs": [
    {
     "data": {
      "text/html": [
       "<div>\n",
       "<style scoped>\n",
       "    .dataframe tbody tr th:only-of-type {\n",
       "        vertical-align: middle;\n",
       "    }\n",
       "\n",
       "    .dataframe tbody tr th {\n",
       "        vertical-align: top;\n",
       "    }\n",
       "\n",
       "    .dataframe thead th {\n",
       "        text-align: right;\n",
       "    }\n",
       "</style>\n",
       "<table border=\"1\" class=\"dataframe\">\n",
       "  <thead>\n",
       "    <tr style=\"text-align: right;\">\n",
       "      <th></th>\n",
       "      <th>core_card_count</th>\n",
       "      <th>core_deck_price</th>\n",
       "      <th>core_avg_card_price</th>\n",
       "      <th>sboard_card_count</th>\n",
       "      <th>sboard_deck_price</th>\n",
       "      <th>sboard_avg_card_price</th>\n",
       "    </tr>\n",
       "  </thead>\n",
       "  <tbody>\n",
       "    <tr>\n",
       "      <th>count</th>\n",
       "      <td>44.000000</td>\n",
       "      <td>44.000000</td>\n",
       "      <td>44.000000</td>\n",
       "      <td>44.000000</td>\n",
       "      <td>44.000000</td>\n",
       "      <td>44.000000</td>\n",
       "    </tr>\n",
       "    <tr>\n",
       "      <th>mean</th>\n",
       "      <td>51.659091</td>\n",
       "      <td>226.635227</td>\n",
       "      <td>4.503797</td>\n",
       "      <td>18.159091</td>\n",
       "      <td>46.366591</td>\n",
       "      <td>2.218371</td>\n",
       "    </tr>\n",
       "    <tr>\n",
       "      <th>std</th>\n",
       "      <td>14.496099</td>\n",
       "      <td>119.153386</td>\n",
       "      <td>2.563019</td>\n",
       "      <td>12.970348</td>\n",
       "      <td>80.441338</td>\n",
       "      <td>1.968854</td>\n",
       "    </tr>\n",
       "    <tr>\n",
       "      <th>min</th>\n",
       "      <td>1.000000</td>\n",
       "      <td>0.390000</td>\n",
       "      <td>0.390000</td>\n",
       "      <td>11.000000</td>\n",
       "      <td>5.230000</td>\n",
       "      <td>0.348667</td>\n",
       "    </tr>\n",
       "    <tr>\n",
       "      <th>25%</th>\n",
       "      <td>51.750000</td>\n",
       "      <td>141.425000</td>\n",
       "      <td>2.611726</td>\n",
       "      <td>15.000000</td>\n",
       "      <td>11.555000</td>\n",
       "      <td>0.770333</td>\n",
       "    </tr>\n",
       "    <tr>\n",
       "      <th>50%</th>\n",
       "      <td>56.000000</td>\n",
       "      <td>221.665000</td>\n",
       "      <td>4.046095</td>\n",
       "      <td>15.000000</td>\n",
       "      <td>26.490000</td>\n",
       "      <td>1.746000</td>\n",
       "    </tr>\n",
       "    <tr>\n",
       "      <th>75%</th>\n",
       "      <td>59.000000</td>\n",
       "      <td>312.352500</td>\n",
       "      <td>5.538869</td>\n",
       "      <td>15.000000</td>\n",
       "      <td>41.150000</td>\n",
       "      <td>2.840525</td>\n",
       "    </tr>\n",
       "    <tr>\n",
       "      <th>max</th>\n",
       "      <td>60.000000</td>\n",
       "      <td>445.140000</td>\n",
       "      <td>13.990000</td>\n",
       "      <td>68.000000</td>\n",
       "      <td>509.980000</td>\n",
       "      <td>8.499667</td>\n",
       "    </tr>\n",
       "  </tbody>\n",
       "</table>\n",
       "</div>"
      ],
      "text/plain": [
       "       core_card_count  core_deck_price  core_avg_card_price  \\\n",
       "count        44.000000        44.000000            44.000000   \n",
       "mean         51.659091       226.635227             4.503797   \n",
       "std          14.496099       119.153386             2.563019   \n",
       "min           1.000000         0.390000             0.390000   \n",
       "25%          51.750000       141.425000             2.611726   \n",
       "50%          56.000000       221.665000             4.046095   \n",
       "75%          59.000000       312.352500             5.538869   \n",
       "max          60.000000       445.140000            13.990000   \n",
       "\n",
       "       sboard_card_count  sboard_deck_price  sboard_avg_card_price  \n",
       "count          44.000000          44.000000              44.000000  \n",
       "mean           18.159091          46.366591               2.218371  \n",
       "std            12.970348          80.441338               1.968854  \n",
       "min            11.000000           5.230000               0.348667  \n",
       "25%            15.000000          11.555000               0.770333  \n",
       "50%            15.000000          26.490000               1.746000  \n",
       "75%            15.000000          41.150000               2.840525  \n",
       "max            68.000000         509.980000               8.499667  "
      ]
     },
     "execution_count": 23,
     "metadata": {},
     "output_type": "execute_result"
    }
   ],
   "source": [
    "deck_prices.describe()"
   ]
  },
  {
   "cell_type": "code",
   "execution_count": 189,
   "id": "funded-authorization",
   "metadata": {},
   "outputs": [
    {
     "data": {
      "text/html": [
       "<div>\n",
       "<style scoped>\n",
       "    .dataframe tbody tr th:only-of-type {\n",
       "        vertical-align: middle;\n",
       "    }\n",
       "\n",
       "    .dataframe tbody tr th {\n",
       "        vertical-align: top;\n",
       "    }\n",
       "\n",
       "    .dataframe thead th {\n",
       "        text-align: right;\n",
       "    }\n",
       "</style>\n",
       "<table border=\"1\" class=\"dataframe\">\n",
       "  <thead>\n",
       "    <tr style=\"text-align: right;\">\n",
       "      <th></th>\n",
       "      <th>deckname</th>\n",
       "    </tr>\n",
       "    <tr>\n",
       "      <th>world_comp</th>\n",
       "      <th></th>\n",
       "    </tr>\n",
       "  </thead>\n",
       "  <tbody>\n",
       "    <tr>\n",
       "      <th>False</th>\n",
       "      <td>28</td>\n",
       "    </tr>\n",
       "    <tr>\n",
       "      <th>True</th>\n",
       "      <td>16</td>\n",
       "    </tr>\n",
       "  </tbody>\n",
       "</table>\n",
       "</div>"
      ],
      "text/plain": [
       "            deckname\n",
       "world_comp          \n",
       "False             28\n",
       "True              16"
      ]
     },
     "execution_count": 189,
     "metadata": {},
     "output_type": "execute_result"
    }
   ],
   "source": [
    "deck_prices[['deckname', 'world_comp']].groupby('world_comp').count()"
   ]
  },
  {
   "cell_type": "code",
   "execution_count": 205,
   "id": "urban-emerald",
   "metadata": {},
   "outputs": [],
   "source": [
    "def overlayed_hists(axes, df, series, categories, bins, xlab, ylab, density=False, cumulative=False, leave_open=True):\n",
    "    \"\"\"\n",
    "    Parameters:\n",
    "        df = dataframe\n",
    "            Contains the data series (as identified by series parameter) to be plotted on the same graph for a given category.\n",
    "        series = dict\n",
    "        categories = array\n",
    "            array listing the unique categories to filter by graph.\n",
    "    \"\"\"\n",
    "    fsize = 10\n",
    "    category_field = categories['category']\n",
    "    for i, cat in enumerate(list(categories.keys())[1:]):\n",
    "#         for line, label in series.items():\n",
    "#             axes[i].hist(df.loc[df[category_field] == cat,line], label = label, alpha =.8, bins = bins)\n",
    "        axes[i].hist(df.loc[df[category_field] == cat,series.keys()], label = list(series.values()), \n",
    "                     alpha =.7, bins = bins, density = density, cumulative = cumulative)\n",
    "        axes[i].set_title(categories[cat])\n",
    "        axes[i].set_ylabel(ylab, fontsize = fsize)\n",
    "        axes[i].set_xlabel(xlab, fontsize = fsize)\n",
    "        axes[i].legend()\n",
    "        \n",
    "    fig.tight_layout()\n",
    "    if leave_open == False:\n",
    "        plt.show()\n",
    "\n",
    "\n",
    "    \n",
    "    "
   ]
  },
  {
   "cell_type": "code",
   "execution_count": 206,
   "id": "recovered-crossing",
   "metadata": {},
   "outputs": [
    {
     "data": {
      "image/png": "[encoded data removed]",
      "text/plain": [
       "<Figure size 720x720 with 2 Axes>"
      ]
     },
     "metadata": {},
     "output_type": "display_data"
    }
   ],
   "source": [
    "categories = {'category': 'world_comp', True: 'World Competitor', False:'Skilled Amateur'}\n",
    "series = {'sboard_avg_card_price':'Sideboard', 'core_avg_card_price':'Core Deck'}\n",
    "x = 'Avg. Price Per Card ($)'\n",
    "y = 'Number of Decks (#)'\n",
    "bins = list(range(0,15,2))\n",
    "\n",
    "fig, axes = plt.subplots(len(categories)-1, figsize=(10,10))\n",
    "overlayed_hists(axes, deck_prices, series, categories, bins, x, y)\n",
    "\n",
    "\n",
    "\n",
    "\n"
   ]
  },
  {
   "cell_type": "code",
   "execution_count": 207,
   "id": "simple-raising",
   "metadata": {},
   "outputs": [],
   "source": [
    "def box_plots(axes, df, series, categories, xlab, ylab, xrange):\n",
    "    \"\"\"\n",
    "    Parameters:\n",
    "        df = dataframe\n",
    "            Contains the data series (as identified by series parameter) to be plotted on the same graph for a given category.\n",
    "        series = dict\n",
    "        categories = dict\n",
    "            filter graph and data\n",
    "    \"\"\"\n",
    "    fsize = 10\n",
    "    category_field = categories['category']\n",
    "    for i, cat in enumerate(list(categories.keys())[1:]):\n",
    "        #for box, label in series.items():\n",
    "        axes[i].boxplot(df.loc[df[category_field] == cat,series.keys()], labels = series.values(), vert = False)\n",
    "        axes[i].set_title(categories[cat])\n",
    "        axes[i].set_xlabel(xlab, fontsize = fsize)\n",
    "        axes[i].set_xlim([xrange[0], xrange[-1]+1])    \n",
    "    fig.tight_layout()\n",
    "    plt.show()"
   ]
  },
  {
   "cell_type": "code",
   "execution_count": 208,
   "id": "patient-porter",
   "metadata": {},
   "outputs": [
    {
     "data": {
      "image/png": "[encoded data removed]",
      "text/plain": [
       "<Figure size 720x360 with 2 Axes>"
      ]
     },
     "metadata": {},
     "output_type": "display_data"
    }
   ],
   "source": [
    "fig, axes = plt.subplots(len(categories)-1, figsize=(10,5))\n",
    "box_plots(axes, deck_prices, series, categories, x, y, bins)"
   ]
  },
  {
   "cell_type": "code",
   "execution_count": 209,
   "id": "developmental-drama",
   "metadata": {},
   "outputs": [],
   "source": [
    "# Then plot the distributions of each select deck pricing group to compare the two.\n",
    "# then do hypothesis test.\n",
    "# ideally some scatters between price and other variables to see any kind of trend... and then pick sample from \n",
    "#core cards to create 'at random deck' to see what would generate."
   ]
  },
  {
   "cell_type": "markdown",
   "id": "caroline-potter",
   "metadata": {},
   "source": [
    "### Initial review of these avg. price per card distributions indicates that the sideboards are not equivalent distributions relative to the core deck cards and as such, random sampling from the sideboard to 'fill' the spaces of the cards that are missing prices in the core deck is probably not a valid approach.  Now let's explore the card counts per deck to assess a reasonable 'cutoff' point for analysis."
   ]
  },
  {
   "cell_type": "code",
   "execution_count": 227,
   "id": "double-genius",
   "metadata": {},
   "outputs": [
    {
     "data": {
      "image/png": "[encoded data removed]",
      "text/plain": [
       "<Figure size 720x720 with 2 Axes>"
      ]
     },
     "metadata": {},
     "output_type": "display_data"
    }
   ],
   "source": [
    "categories = {'category': 'world_comp', True: 'World Competitor', False:'Skilled Amateur'}\n",
    "series = {'core_card_count':'Core Deck'}\n",
    "x = 'Priced Deck Size (#)'\n",
    "y = 'Number of Decks (#)'\n",
    "bins = list(range(deck_prices['core_card_count'].max()+4))\n",
    "\n",
    "fig, axes = plt.subplots(len(categories)-1, figsize=(10,10))\n",
    "overlayed_hists(axes, deck_prices, series, categories, bins, x, y, density=False, cumulative=True, leave_open = True)\n",
    "#x = [deck_prices.loc[deck_prices['world_comp'] == True, 'core_card_count'].min()]*2\n",
    "x = [54,54]\n",
    "y = [0, 16]\n",
    "x2 = [0, 65]\n",
    "y2 = [16, 16]\n",
    "\n",
    "for ax in axes:\n",
    "    ax.plot(x, y, color = 'k', linewidth = .5)\n",
    "    ax.plot(x2,y2, color = 'k', linewidth = .5)\n",
    "plt.show()\n"
   ]
  },
  {
   "cell_type": "code",
   "execution_count": 214,
   "id": "spanish-cradle",
   "metadata": {},
   "outputs": [
    {
     "data": {
      "text/html": [
       "<div>\n",
       "<style scoped>\n",
       "    .dataframe tbody tr th:only-of-type {\n",
       "        vertical-align: middle;\n",
       "    }\n",
       "\n",
       "    .dataframe tbody tr th {\n",
       "        vertical-align: top;\n",
       "    }\n",
       "\n",
       "    .dataframe thead th {\n",
       "        text-align: right;\n",
       "    }\n",
       "</style>\n",
       "<table border=\"1\" class=\"dataframe\">\n",
       "  <thead>\n",
       "    <tr style=\"text-align: right;\">\n",
       "      <th></th>\n",
       "      <th>deckname</th>\n",
       "    </tr>\n",
       "    <tr>\n",
       "      <th>world_comp</th>\n",
       "      <th></th>\n",
       "    </tr>\n",
       "  </thead>\n",
       "  <tbody>\n",
       "    <tr>\n",
       "      <th>False</th>\n",
       "      <td>28</td>\n",
       "    </tr>\n",
       "    <tr>\n",
       "      <th>True</th>\n",
       "      <td>16</td>\n",
       "    </tr>\n",
       "  </tbody>\n",
       "</table>\n",
       "</div>"
      ],
      "text/plain": [
       "            deckname\n",
       "world_comp          \n",
       "False             28\n",
       "True              16"
      ]
     },
     "execution_count": 214,
     "metadata": {},
     "output_type": "execute_result"
    }
   ],
   "source": [
    "deck_prices[['deckname', 'world_comp']].groupby('world_comp').count()"
   ]
  },
  {
   "cell_type": "code",
   "execution_count": null,
   "id": "spare-training",
   "metadata": {},
   "outputs": [],
   "source": []
  },
  {
   "cell_type": "markdown",
   "id": "enabling-pressing",
   "metadata": {},
   "source": [
    "### Given the above, going to just set the cutoff to card counts such that we have equal sample size between the world competitors and skilled amateurs. "
   ]
  },
  {
   "cell_type": "code",
   "execution_count": 235,
   "id": "advanced-explanation",
   "metadata": {},
   "outputs": [
    {
     "data": {
      "text/html": [
       "<div>\n",
       "<style scoped>\n",
       "    .dataframe tbody tr th:only-of-type {\n",
       "        vertical-align: middle;\n",
       "    }\n",
       "\n",
       "    .dataframe tbody tr th {\n",
       "        vertical-align: top;\n",
       "    }\n",
       "\n",
       "    .dataframe thead th {\n",
       "        text-align: right;\n",
       "    }\n",
       "</style>\n",
       "<table border=\"1\" class=\"dataframe\">\n",
       "  <thead>\n",
       "    <tr style=\"text-align: right;\">\n",
       "      <th></th>\n",
       "      <th>deckname</th>\n",
       "    </tr>\n",
       "    <tr>\n",
       "      <th>world_comp</th>\n",
       "      <th></th>\n",
       "    </tr>\n",
       "  </thead>\n",
       "  <tbody>\n",
       "    <tr>\n",
       "      <th>False</th>\n",
       "      <td>16</td>\n",
       "    </tr>\n",
       "    <tr>\n",
       "      <th>True</th>\n",
       "      <td>16</td>\n",
       "    </tr>\n",
       "  </tbody>\n",
       "</table>\n",
       "</div>"
      ],
      "text/plain": [
       "            deckname\n",
       "world_comp          \n",
       "False             16\n",
       "True              16"
      ]
     },
     "execution_count": 235,
     "metadata": {},
     "output_type": "execute_result"
    }
   ],
   "source": [
    "deck_prices.loc[deck_prices['core_card_count'] >= 54,['world_comp', 'deckname']].groupby('world_comp').count()"
   ]
  },
  {
   "cell_type": "code",
   "execution_count": 255,
   "id": "twelve-penalty",
   "metadata": {},
   "outputs": [],
   "source": [
    "world_prices = deck_prices.loc[deck_prices['world_comp'] == True, 'core_avg_card_price']\n",
    "skldam_prices = deck_prices.loc[(deck_prices['world_comp'] == False) & (deck_prices['core_card_count'] >= 54), 'core_avg_card_price']"
   ]
  },
  {
   "cell_type": "code",
   "execution_count": 256,
   "id": "vietnamese-spotlight",
   "metadata": {},
   "outputs": [
    {
     "name": "stdout",
     "output_type": "stream",
     "text": [
      "16\n"
     ]
    },
    {
     "data": {
      "text/plain": [
       "0    2.332143\n",
       "1    7.577143\n",
       "2    7.877857\n",
       "3    2.548333\n",
       "4    5.501579\n",
       "Name: core_avg_card_price, dtype: float64"
      ]
     },
     "execution_count": 256,
     "metadata": {},
     "output_type": "execute_result"
    }
   ],
   "source": [
    "print(world_prices.count())\n",
    "world_prices.head()\n"
   ]
  },
  {
   "cell_type": "code",
   "execution_count": 257,
   "id": "basic-taste",
   "metadata": {},
   "outputs": [
    {
     "name": "stdout",
     "output_type": "stream",
     "text": [
      "16\n"
     ]
    },
    {
     "data": {
      "text/plain": [
       "14    2.462500\n",
       "15    2.766610\n",
       "17    2.810345\n",
       "20    3.173158\n",
       "23    1.997037\n",
       "Name: core_avg_card_price, dtype: float64"
      ]
     },
     "execution_count": 257,
     "metadata": {},
     "output_type": "execute_result"
    }
   ],
   "source": [
    "print(skldam_prices.count())\n",
    "skldam_prices.head()\n"
   ]
  },
  {
   "cell_type": "code",
   "execution_count": 260,
   "id": "ahead-formation",
   "metadata": {},
   "outputs": [
    {
     "name": "stdout",
     "output_type": "stream",
     "text": [
      "MannwhitneyuResult(statistic=181.0, pvalue=0.02388583647666761)\n"
     ]
    }
   ],
   "source": [
    "print(stats.mannwhitneyu(world_prices, skldam_prices, alternative = 'greater'))"
   ]
  },
  {
   "cell_type": "code",
   "execution_count": 261,
   "id": "christian-arkansas",
   "metadata": {},
   "outputs": [
    {
     "name": "stdout",
     "output_type": "stream",
     "text": [
      "MannwhitneyuResult(statistic=181.0, pvalue=0.04777167295333522)\n"
     ]
    }
   ],
   "source": [
    "print(stats.mannwhitneyu(world_prices, skldam_prices, alternative = 'two-sided'))"
   ]
  },
  {
   "cell_type": "code",
   "execution_count": 262,
   "id": "southwest-connecticut",
   "metadata": {},
   "outputs": [
    {
     "name": "stdout",
     "output_type": "stream",
     "text": [
      "MannwhitneyuResult(statistic=181.0, pvalue=0.022845036998213435)\n"
     ]
    }
   ],
   "source": [
    "print(stats.mannwhitneyu(world_prices, skldam_prices, use_continuity = False, alternative = 'greater'))"
   ]
  },
  {
   "cell_type": "code",
   "execution_count": 263,
   "id": "dress-munich",
   "metadata": {},
   "outputs": [
    {
     "name": "stdout",
     "output_type": "stream",
     "text": [
      "MannwhitneyuResult(statistic=181.0, pvalue=0.04569007399642687)\n"
     ]
    }
   ],
   "source": [
    "print(stats.mannwhitneyu(world_prices, skldam_prices, use_continuity = False, alternative = 'two-sided'))"
   ]
  },
  {
   "cell_type": "markdown",
   "id": "weekly-drive",
   "metadata": {},
   "source": [
    "### given the U statistic of 181 compared to the appropriate lookup critical value for both n's being 16 of 75, the test cannot be considered significant and thus we can't reject the null hypothesis that the average price per card used in a world competition deck is the same as that used in skilled amateur decks.\n"
   ]
  },
  {
   "cell_type": "code",
   "execution_count": null,
   "id": "polyphonic-saskatchewan",
   "metadata": {},
   "outputs": [],
   "source": []
  }
 ],
 "metadata": {
  "kernelspec": {
   "display_name": "Python 3",
   "language": "python",
   "name": "python3"
  },
  "language_info": {
   "codemirror_mode": {
    "name": "ipython",
    "version": 3
   },
   "file_extension": ".py",
   "mimetype": "text/x-python",
   "name": "python",
   "nbconvert_exporter": "python",
   "pygments_lexer": "ipython3",
   "version": "3.7.9"
  }
 },
 "nbformat": 4,
 "nbformat_minor": 5
}
