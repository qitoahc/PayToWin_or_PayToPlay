{
 "cells": [
  {
   "cell_type": "code",
   "execution_count": 55,
   "id": "surprising-macro",
   "metadata": {},
   "outputs": [],
   "source": [
    "import pandas as pd\n",
    "import numpy as np\n",
    "import matplotlib.pyplot as plt\n",
    "%matplotlib inline\n",
    "plt.style.use(\"ggplot\")\n",
    "import sys\n",
    "import os\n",
    "import psycopg2 as psy\n",
    "from psycopg2 import sql\n",
    "from io import StringIO\n",
    "import sqlalchemy\n",
    "from sqlalchemy import create_engine\n",
    "module_path = os.path.abspath(os.path.join('..'))\n",
    "if module_path not in sys.path:\n",
    "    sys.path.append(module_path+\"/src\")\n",
    "import mtg_helpers as mtgh\n",
    "\n",
    "\n",
    "con_details = {\"dbname\" : 'pay_to_play', \n",
    "               \"user\" : os.environ['PGSQL_P_USER'], \n",
    "               \"password\" : os.environ['PGSQL_P_PWD'], \n",
    "               \"host\" : 'localhost'} \n"
   ]
  },
  {
   "cell_type": "code",
   "execution_count": 56,
   "id": "impressive-snapshot",
   "metadata": {},
   "outputs": [
    {
     "name": "stdout",
     "output_type": "stream",
     "text": [
      "Connecting to PostgreSQL database...\n",
      "Connection successful\n"
     ]
    }
   ],
   "source": [
    "conn = mtgh.connect(con_details)"
   ]
  },
  {
   "cell_type": "markdown",
   "id": "expired-nancy",
   "metadata": {},
   "source": [
    "### Let's start by exploring quickly the total card set data"
   ]
  },
  {
   "cell_type": "code",
   "execution_count": 57,
   "id": "artistic-happiness",
   "metadata": {},
   "outputs": [],
   "source": [
    "query = sql.SQL(\n",
    "    \"\"\"SELECT \n",
    "            core.uuid, core.name, core.rarity, core.\"setCode\", core.\"keywords\", core.\"convertedManaCost\", \n",
    "            core.type, core.power, core.toughness, core.subtypes, core.supertypes, \n",
    "            setdetails.setname, setdetails.setreleasedate, fixed_prices.price, fixed_prices.\"price_date\"\n",
    "    FROM core\n",
    "    LEFT JOIN fixed_prices ON core.uuid = fixed_prices.uuid\n",
    "    JOIN setdetails  ON core.\"setCode\" = setdetails.setcode\"\"\")\n",
    "card_df = pd.read_sql(query, conn)"
   ]
  },
  {
   "cell_type": "code",
   "execution_count": 58,
   "id": "widespread-alcohol",
   "metadata": {},
   "outputs": [
    {
     "data": {
      "text/html": [
       "<div>\n",
       "<style scoped>\n",
       "    .dataframe tbody tr th:only-of-type {\n",
       "        vertical-align: middle;\n",
       "    }\n",
       "\n",
       "    .dataframe tbody tr th {\n",
       "        vertical-align: top;\n",
       "    }\n",
       "\n",
       "    .dataframe thead th {\n",
       "        text-align: right;\n",
       "    }\n",
       "</style>\n",
       "<table border=\"1\" class=\"dataframe\">\n",
       "  <thead>\n",
       "    <tr style=\"text-align: right;\">\n",
       "      <th></th>\n",
       "      <th>convertedManaCost</th>\n",
       "      <th>price</th>\n",
       "    </tr>\n",
       "  </thead>\n",
       "  <tbody>\n",
       "    <tr>\n",
       "      <th>count</th>\n",
       "      <td>3705.000000</td>\n",
       "      <td>3536.000000</td>\n",
       "    </tr>\n",
       "    <tr>\n",
       "      <th>mean</th>\n",
       "      <td>3.043185</td>\n",
       "      <td>1.819762</td>\n",
       "    </tr>\n",
       "    <tr>\n",
       "      <th>std</th>\n",
       "      <td>1.841967</td>\n",
       "      <td>4.962194</td>\n",
       "    </tr>\n",
       "    <tr>\n",
       "      <th>min</th>\n",
       "      <td>0.000000</td>\n",
       "      <td>0.150000</td>\n",
       "    </tr>\n",
       "    <tr>\n",
       "      <th>25%</th>\n",
       "      <td>2.000000</td>\n",
       "      <td>0.250000</td>\n",
       "    </tr>\n",
       "    <tr>\n",
       "      <th>50%</th>\n",
       "      <td>3.000000</td>\n",
       "      <td>0.250000</td>\n",
       "    </tr>\n",
       "    <tr>\n",
       "      <th>75%</th>\n",
       "      <td>4.000000</td>\n",
       "      <td>0.990000</td>\n",
       "    </tr>\n",
       "    <tr>\n",
       "      <th>max</th>\n",
       "      <td>12.000000</td>\n",
       "      <td>109.990000</td>\n",
       "    </tr>\n",
       "  </tbody>\n",
       "</table>\n",
       "</div>"
      ],
      "text/plain": [
       "       convertedManaCost        price\n",
       "count        3705.000000  3536.000000\n",
       "mean            3.043185     1.819762\n",
       "std             1.841967     4.962194\n",
       "min             0.000000     0.150000\n",
       "25%             2.000000     0.250000\n",
       "50%             3.000000     0.250000\n",
       "75%             4.000000     0.990000\n",
       "max            12.000000   109.990000"
      ]
     },
     "execution_count": 58,
     "metadata": {},
     "output_type": "execute_result"
    }
   ],
   "source": [
    "card_df.describe()"
   ]
  },
  {
   "cell_type": "markdown",
   "id": "liked-brain",
   "metadata": {},
   "source": [
    "### This gives a nice view to the ranges of price and converted mana cost across all the cards in this analysis."
   ]
  },
  {
   "cell_type": "code",
   "execution_count": 59,
   "id": "western-ownership",
   "metadata": {},
   "outputs": [
    {
     "name": "stdout",
     "output_type": "stream",
     "text": [
      "<class 'pandas.core.frame.DataFrame'>\n",
      "RangeIndex: 3705 entries, 0 to 3704\n",
      "Data columns (total 15 columns):\n",
      " #   Column             Non-Null Count  Dtype  \n",
      "---  ------             --------------  -----  \n",
      " 0   uuid               3705 non-null   object \n",
      " 1   name               3705 non-null   object \n",
      " 2   rarity             3705 non-null   object \n",
      " 3   setCode            3705 non-null   object \n",
      " 4   keywords           1521 non-null   object \n",
      " 5   convertedManaCost  3705 non-null   float64\n",
      " 6   type               3705 non-null   object \n",
      " 7   power              1850 non-null   object \n",
      " 8   toughness          1850 non-null   object \n",
      " 9   subtypes           3705 non-null   object \n",
      " 10  supertypes         3705 non-null   object \n",
      " 11  setname            3705 non-null   object \n",
      " 12  setreleasedate     3705 non-null   object \n",
      " 13  price              3536 non-null   float64\n",
      " 14  price_date         3536 non-null   object \n",
      "dtypes: float64(2), object(13)\n",
      "memory usage: 434.3+ KB\n"
     ]
    }
   ],
   "source": [
    "card_df.info()"
   ]
  },
  {
   "cell_type": "markdown",
   "id": "final-springfield",
   "metadata": {},
   "source": [
    "### Initial sense of the completness of each key column for potential analysis. Some 'gaps' are expected/explainable in that keywords, power, and toughness tend to only apply to creature-types and thus a ~50% null rate is to be expected.  Because of either the inherent nature of the data or custom behavior on some MTG cards, there are very few fields that can be of numeric types.  Of note would be the power and toughness columns as for creatures these are typically integers except for some creatures that have variable values based on the state of the game and are represented as asterisks.  Can still do numerical analysis on these fields by limiting to just those values with pre-defined integer values and casting to int type.  Biggest 'issue' will ultimately be around the ~150 cards that didn't have prices available from the target price source."
   ]
  },
  {
   "cell_type": "markdown",
   "id": "wrong-river",
   "metadata": {},
   "source": [
    "### Ultimately wanting to test our hypothesis that the world champion decks do not cost more than other successful, but amateur, decks.  So let's now look quickly at our deck data."
   ]
  },
  {
   "cell_type": "code",
   "execution_count": 60,
   "id": "further-partner",
   "metadata": {},
   "outputs": [],
   "source": [
    "query = sql.SQL(\n",
    "    \"\"\"SELECT decklists.deckname, core.uuid, core.name, \n",
    "    decklists.card_count, decklists.sideboard, core.rarity, \n",
    "    core.\"setCode\", core.\"keywords\", core.\"convertedManaCost\", \n",
    "    core.type, core.power, core.toughness, core.subtypes, core.supertypes, \n",
    "    setdetails.setname, setdetails.setreleasedate, fixed_prices.price, fixed_prices.\"price_date\"\n",
    "FROM core\n",
    "LEFT JOIN fixed_prices ON core.uuid = fixed_prices.uuid\n",
    "JOIN setdetails  ON core.\"setCode\" = setdetails.setcode\n",
    "JOIN decklists ON core.uuid = decklists.uuid\"\"\")\n",
    "decks_df = pd.read_sql(query, conn)"
   ]
  },
  {
   "cell_type": "code",
   "execution_count": 61,
   "id": "accepted-sword",
   "metadata": {},
   "outputs": [
    {
     "data": {
      "text/html": [
       "<div>\n",
       "<style scoped>\n",
       "    .dataframe tbody tr th:only-of-type {\n",
       "        vertical-align: middle;\n",
       "    }\n",
       "\n",
       "    .dataframe tbody tr th {\n",
       "        vertical-align: top;\n",
       "    }\n",
       "\n",
       "    .dataframe thead th {\n",
       "        text-align: right;\n",
       "    }\n",
       "</style>\n",
       "<table border=\"1\" class=\"dataframe\">\n",
       "  <thead>\n",
       "    <tr style=\"text-align: right;\">\n",
       "      <th></th>\n",
       "      <th>card_count</th>\n",
       "      <th>convertedManaCost</th>\n",
       "      <th>price</th>\n",
       "    </tr>\n",
       "  </thead>\n",
       "  <tbody>\n",
       "    <tr>\n",
       "      <th>count</th>\n",
       "      <td>1144.000000</td>\n",
       "      <td>1144.000000</td>\n",
       "      <td>1060.000000</td>\n",
       "    </tr>\n",
       "    <tr>\n",
       "      <th>mean</th>\n",
       "      <td>2.890734</td>\n",
       "      <td>2.311189</td>\n",
       "      <td>4.218528</td>\n",
       "    </tr>\n",
       "    <tr>\n",
       "      <th>std</th>\n",
       "      <td>1.968106</td>\n",
       "      <td>1.908038</td>\n",
       "      <td>7.551366</td>\n",
       "    </tr>\n",
       "    <tr>\n",
       "      <th>min</th>\n",
       "      <td>1.000000</td>\n",
       "      <td>0.000000</td>\n",
       "      <td>0.150000</td>\n",
       "    </tr>\n",
       "    <tr>\n",
       "      <th>25%</th>\n",
       "      <td>2.000000</td>\n",
       "      <td>1.000000</td>\n",
       "      <td>0.250000</td>\n",
       "    </tr>\n",
       "    <tr>\n",
       "      <th>50%</th>\n",
       "      <td>3.000000</td>\n",
       "      <td>2.000000</td>\n",
       "      <td>0.990000</td>\n",
       "    </tr>\n",
       "    <tr>\n",
       "      <th>75%</th>\n",
       "      <td>4.000000</td>\n",
       "      <td>3.000000</td>\n",
       "      <td>4.615000</td>\n",
       "    </tr>\n",
       "    <tr>\n",
       "      <th>max</th>\n",
       "      <td>20.000000</td>\n",
       "      <td>9.000000</td>\n",
       "      <td>64.990000</td>\n",
       "    </tr>\n",
       "  </tbody>\n",
       "</table>\n",
       "</div>"
      ],
      "text/plain": [
       "        card_count  convertedManaCost        price\n",
       "count  1144.000000        1144.000000  1060.000000\n",
       "mean      2.890734           2.311189     4.218528\n",
       "std       1.968106           1.908038     7.551366\n",
       "min       1.000000           0.000000     0.150000\n",
       "25%       2.000000           1.000000     0.250000\n",
       "50%       3.000000           2.000000     0.990000\n",
       "75%       4.000000           3.000000     4.615000\n",
       "max      20.000000           9.000000    64.990000"
      ]
     },
     "execution_count": 61,
     "metadata": {},
     "output_type": "execute_result"
    }
   ],
   "source": [
    "decks_df.describe()"
   ]
  },
  {
   "cell_type": "code",
   "execution_count": 62,
   "id": "infrared-tulsa",
   "metadata": {},
   "outputs": [
    {
     "name": "stdout",
     "output_type": "stream",
     "text": [
      "<class 'pandas.core.frame.DataFrame'>\n",
      "RangeIndex: 1144 entries, 0 to 1143\n",
      "Data columns (total 18 columns):\n",
      " #   Column             Non-Null Count  Dtype  \n",
      "---  ------             --------------  -----  \n",
      " 0   deckname           1144 non-null   object \n",
      " 1   uuid               1144 non-null   object \n",
      " 2   name               1144 non-null   object \n",
      " 3   card_count         1144 non-null   int64  \n",
      " 4   sideboard          1144 non-null   bool   \n",
      " 5   rarity             1144 non-null   object \n",
      " 6   setCode            1144 non-null   object \n",
      " 7   keywords           377 non-null    object \n",
      " 8   convertedManaCost  1144 non-null   float64\n",
      " 9   type               1144 non-null   object \n",
      " 10  power              320 non-null    object \n",
      " 11  toughness          320 non-null    object \n",
      " 12  subtypes           1144 non-null   object \n",
      " 13  supertypes         1144 non-null   object \n",
      " 14  setname            1144 non-null   object \n",
      " 15  setreleasedate     1144 non-null   object \n",
      " 16  price              1060 non-null   float64\n",
      " 17  price_date         1060 non-null   object \n",
      "dtypes: bool(1), float64(2), int64(1), object(14)\n",
      "memory usage: 153.2+ KB\n"
     ]
    }
   ],
   "source": [
    "decks_df.info()"
   ]
  },
  {
   "cell_type": "markdown",
   "id": "sufficient-forty",
   "metadata": {},
   "source": [
    "### Unfortunately, the decision to limit pricing to a single source prevented complete acquisition of price data for each card.  Need to explore the perspective of deck data that only has prices and decide on an approach for moving forward.  Will compile a deck-based df that breaks out core vs. sideboard cards  and show card counts, total prices, and avg. price per card in each category.\n"
   ]
  },
  {
   "cell_type": "code",
   "execution_count": 90,
   "id": "hollow-coordinator",
   "metadata": {},
   "outputs": [
    {
     "data": {
      "text/html": [
       "<div>\n",
       "<style scoped>\n",
       "    .dataframe tbody tr th:only-of-type {\n",
       "        vertical-align: middle;\n",
       "    }\n",
       "\n",
       "    .dataframe tbody tr th {\n",
       "        vertical-align: top;\n",
       "    }\n",
       "\n",
       "    .dataframe thead th {\n",
       "        text-align: right;\n",
       "    }\n",
       "</style>\n",
       "<table border=\"1\" class=\"dataframe\">\n",
       "  <thead>\n",
       "    <tr style=\"text-align: right;\">\n",
       "      <th></th>\n",
       "      <th>deckname</th>\n",
       "      <th>card_count</th>\n",
       "      <th>price</th>\n",
       "      <th>sideboard</th>\n",
       "      <th>total_card_price</th>\n",
       "    </tr>\n",
       "  </thead>\n",
       "  <tbody>\n",
       "    <tr>\n",
       "      <th>0</th>\n",
       "      <td>Platinum-Mythic-Rank-Player-Traditional-(Bo3)(19)</td>\n",
       "      <td>4</td>\n",
       "      <td>0.25</td>\n",
       "      <td>False</td>\n",
       "      <td>1.00</td>\n",
       "    </tr>\n",
       "    <tr>\n",
       "      <th>1</th>\n",
       "      <td>Platinum-Mythic-Rank-Player-Traditional-(Bo3)(1)</td>\n",
       "      <td>3</td>\n",
       "      <td>0.25</td>\n",
       "      <td>True</td>\n",
       "      <td>0.75</td>\n",
       "    </tr>\n",
       "    <tr>\n",
       "      <th>2</th>\n",
       "      <td>Ondřej-Stráský-Azorius-Control-Magic-World-Cha...</td>\n",
       "      <td>2</td>\n",
       "      <td>0.25</td>\n",
       "      <td>True</td>\n",
       "      <td>0.50</td>\n",
       "    </tr>\n",
       "    <tr>\n",
       "      <th>3</th>\n",
       "      <td>Paulo-Vitor-Damo-da-Rosa-Azorius-Control-Magic...</td>\n",
       "      <td>2</td>\n",
       "      <td>0.25</td>\n",
       "      <td>True</td>\n",
       "      <td>0.50</td>\n",
       "    </tr>\n",
       "    <tr>\n",
       "      <th>4</th>\n",
       "      <td>Matias-Leveratto-Temur-Reclamation-Magic-World...</td>\n",
       "      <td>3</td>\n",
       "      <td>0.39</td>\n",
       "      <td>True</td>\n",
       "      <td>1.17</td>\n",
       "    </tr>\n",
       "  </tbody>\n",
       "</table>\n",
       "</div>"
      ],
      "text/plain": [
       "                                            deckname  card_count  price  \\\n",
       "0  Platinum-Mythic-Rank-Player-Traditional-(Bo3)(19)           4   0.25   \n",
       "1   Platinum-Mythic-Rank-Player-Traditional-(Bo3)(1)           3   0.25   \n",
       "2  Ondřej-Stráský-Azorius-Control-Magic-World-Cha...           2   0.25   \n",
       "3  Paulo-Vitor-Damo-da-Rosa-Azorius-Control-Magic...           2   0.25   \n",
       "4  Matias-Leveratto-Temur-Reclamation-Magic-World...           3   0.39   \n",
       "\n",
       "   sideboard  total_card_price  \n",
       "0      False              1.00  \n",
       "1       True              0.75  \n",
       "2       True              0.50  \n",
       "3       True              0.50  \n",
       "4       True              1.17  "
      ]
     },
     "execution_count": 90,
     "metadata": {},
     "output_type": "execute_result"
    }
   ],
   "source": [
    "price_only = decks_df.loc[pd.notnull(decks_df['price']), ['deckname', 'card_count', 'price', 'sideboard']]\n",
    "price_only['total_card_price'] = price_only['card_count'] * price_only['price']\n",
    "price_only.head()"
   ]
  },
  {
   "cell_type": "code",
   "execution_count": 104,
   "id": "annual-modem",
   "metadata": {},
   "outputs": [],
   "source": [
    "core_price_only = price_only.loc[price_only['sideboard'] == False,:]\n",
    "core_deck_prices = core_price_only.loc[:,['deckname', 'card_count', 'total_card_price']].groupby('deckname').sum()\n",
    "core_deck_prices['core_avg_card_price'] = core_deck_prices['total_card_price'] / core_deck_prices['card_count']\n",
    "core_deck_prices.rename(columns = {})\n",
    "core_deck_prices.rename(columns = {'card_count':'core_card_count','total_card_price':'core_deck_price'}, inplace = True)\n",
    "\n",
    "\n",
    "sboard_price_only = price_only.loc[price_only['sideboard'] == True,:]\n",
    "sboard_deck_prices = sboard_price_only.loc[:,['deckname', 'card_count', 'total_card_price']].groupby('deckname').sum()\n",
    "sboard_deck_prices['sboard_avg_card_price'] = sboard_deck_prices['total_card_price'] / sboard_deck_prices['card_count']\n",
    "sboard_deck_prices.rename(columns = {})\n",
    "sboard_deck_prices.rename(columns = {'card_count':'sboard_card_count','total_card_price':'sboard_deck_price'}, inplace = True)\n",
    "\n",
    "deck_prices = core_deck_prices.merge(sboard_deck_prices,how='inner',on='deckname')\n"
   ]
  },
  {
   "cell_type": "code",
   "execution_count": 106,
   "id": "compact-dealing",
   "metadata": {},
   "outputs": [
    {
     "data": {
      "text/html": [
       "<div>\n",
       "<style scoped>\n",
       "    .dataframe tbody tr th:only-of-type {\n",
       "        vertical-align: middle;\n",
       "    }\n",
       "\n",
       "    .dataframe tbody tr th {\n",
       "        vertical-align: top;\n",
       "    }\n",
       "\n",
       "    .dataframe thead th {\n",
       "        text-align: right;\n",
       "    }\n",
       "</style>\n",
       "<table border=\"1\" class=\"dataframe\">\n",
       "  <thead>\n",
       "    <tr style=\"text-align: right;\">\n",
       "      <th></th>\n",
       "      <th>core_card_count</th>\n",
       "      <th>core_deck_price</th>\n",
       "      <th>core_avg_card_price</th>\n",
       "      <th>sboard_card_count</th>\n",
       "      <th>sboard_deck_price</th>\n",
       "      <th>sboard_avg_card_price</th>\n",
       "    </tr>\n",
       "  </thead>\n",
       "  <tbody>\n",
       "    <tr>\n",
       "      <th>count</th>\n",
       "      <td>44.000000</td>\n",
       "      <td>44.000000</td>\n",
       "      <td>44.000000</td>\n",
       "      <td>44.000000</td>\n",
       "      <td>44.000000</td>\n",
       "      <td>44.000000</td>\n",
       "    </tr>\n",
       "    <tr>\n",
       "      <th>mean</th>\n",
       "      <td>51.659091</td>\n",
       "      <td>226.635227</td>\n",
       "      <td>4.503797</td>\n",
       "      <td>18.159091</td>\n",
       "      <td>46.366591</td>\n",
       "      <td>2.218371</td>\n",
       "    </tr>\n",
       "    <tr>\n",
       "      <th>std</th>\n",
       "      <td>14.496099</td>\n",
       "      <td>119.153386</td>\n",
       "      <td>2.563019</td>\n",
       "      <td>12.970348</td>\n",
       "      <td>80.441338</td>\n",
       "      <td>1.968854</td>\n",
       "    </tr>\n",
       "    <tr>\n",
       "      <th>min</th>\n",
       "      <td>1.000000</td>\n",
       "      <td>0.390000</td>\n",
       "      <td>0.390000</td>\n",
       "      <td>11.000000</td>\n",
       "      <td>5.230000</td>\n",
       "      <td>0.348667</td>\n",
       "    </tr>\n",
       "    <tr>\n",
       "      <th>25%</th>\n",
       "      <td>51.750000</td>\n",
       "      <td>141.425000</td>\n",
       "      <td>2.611726</td>\n",
       "      <td>15.000000</td>\n",
       "      <td>11.555000</td>\n",
       "      <td>0.770333</td>\n",
       "    </tr>\n",
       "    <tr>\n",
       "      <th>50%</th>\n",
       "      <td>56.000000</td>\n",
       "      <td>221.665000</td>\n",
       "      <td>4.046095</td>\n",
       "      <td>15.000000</td>\n",
       "      <td>26.490000</td>\n",
       "      <td>1.746000</td>\n",
       "    </tr>\n",
       "    <tr>\n",
       "      <th>75%</th>\n",
       "      <td>59.000000</td>\n",
       "      <td>312.352500</td>\n",
       "      <td>5.538869</td>\n",
       "      <td>15.000000</td>\n",
       "      <td>41.150000</td>\n",
       "      <td>2.840525</td>\n",
       "    </tr>\n",
       "    <tr>\n",
       "      <th>max</th>\n",
       "      <td>60.000000</td>\n",
       "      <td>445.140000</td>\n",
       "      <td>13.990000</td>\n",
       "      <td>68.000000</td>\n",
       "      <td>509.980000</td>\n",
       "      <td>8.499667</td>\n",
       "    </tr>\n",
       "  </tbody>\n",
       "</table>\n",
       "</div>"
      ],
      "text/plain": [
       "       core_card_count  core_deck_price  core_avg_card_price  \\\n",
       "count        44.000000        44.000000            44.000000   \n",
       "mean         51.659091       226.635227             4.503797   \n",
       "std          14.496099       119.153386             2.563019   \n",
       "min           1.000000         0.390000             0.390000   \n",
       "25%          51.750000       141.425000             2.611726   \n",
       "50%          56.000000       221.665000             4.046095   \n",
       "75%          59.000000       312.352500             5.538869   \n",
       "max          60.000000       445.140000            13.990000   \n",
       "\n",
       "       sboard_card_count  sboard_deck_price  sboard_avg_card_price  \n",
       "count          44.000000          44.000000              44.000000  \n",
       "mean           18.159091          46.366591               2.218371  \n",
       "std            12.970348          80.441338               1.968854  \n",
       "min            11.000000           5.230000               0.348667  \n",
       "25%            15.000000          11.555000               0.770333  \n",
       "50%            15.000000          26.490000               1.746000  \n",
       "75%            15.000000          41.150000               2.840525  \n",
       "max            68.000000         509.980000               8.499667  "
      ]
     },
     "execution_count": 106,
     "metadata": {},
     "output_type": "execute_result"
    }
   ],
   "source": [
    "deck_prices.describe()"
   ]
  },
  {
   "cell_type": "code",
   "execution_count": 107,
   "id": "funded-authorization",
   "metadata": {},
   "outputs": [],
   "source": [
    "# create categorical variable for world comp vs. successful amateur, then look to compare sboard and core avg price\n",
    "#within the categories.  maybe overlay histograms by avg card price bins?\n",
    "# also then look at histograms of card count for core by each category...maybe as a pareto to make a 'cutoff'.\n",
    "# Then plot the distributions of each select deck pricing group to compare the two.\n",
    "# then do hypothesis test.\n",
    "# ideally some scatters between price and other variables to see any kind of trend... and then pick sample from \n",
    "#core cards to create 'at random deck' to see what would generate."
   ]
  },
  {
   "cell_type": "code",
   "execution_count": null,
   "id": "urban-emerald",
   "metadata": {},
   "outputs": [],
   "source": []
  },
  {
   "cell_type": "code",
   "execution_count": 10,
   "id": "recovered-crossing",
   "metadata": {},
   "outputs": [
    {
     "name": "stdout",
     "output_type": "stream",
     "text": [
      "mythic\n",
      "common\n",
      "uncommon\n",
      "rare\n"
     ]
    }
   ],
   "source": [
    "def overlayed_plots(ax, df, category):\n",
    "    for i in df[category].unique():\n",
    "        ax.plot()\n",
    "\n",
    "fig, ax = plt.subplots()\n",
    "overlayed_plots(ax, card_df, 'rarity')\n",
    "\n",
    "\n",
    "\n"
   ]
  },
  {
   "cell_type": "code",
   "execution_count": 15,
   "id": "simple-raising",
   "metadata": {},
   "outputs": [],
   "source": [
    "from pandas_profiling import ProfileReport"
   ]
  },
  {
   "cell_type": "code",
   "execution_count": 17,
   "id": "patient-porter",
   "metadata": {},
   "outputs": [],
   "source": [
    "profile = ProfileReport(card_df, title='Pandas Profiling Report')"
   ]
  },
  {
   "cell_type": "code",
   "execution_count": 18,
   "id": "developmental-drama",
   "metadata": {},
   "outputs": [
    {
     "data": {
      "application/vnd.jupyter.widget-view+json": {
       "model_id": "0e88e48cf8394d0eab6ebab8e8d40a1d",
       "version_major": 2,
       "version_minor": 0
      },
      "text/plain": [
       "Summarize dataset:   0%|          | 0/28 [00:00<?, ?it/s]"
      ]
     },
     "metadata": {},
     "output_type": "display_data"
    },
    {
     "data": {
      "application/vnd.jupyter.widget-view+json": {
       "model_id": "997bad9a56ca4303b3677999cb7e471e",
       "version_major": 2,
       "version_minor": 0
      },
      "text/plain": [
       "Generate report structure:   0%|          | 0/1 [00:00<?, ?it/s]"
      ]
     },
     "metadata": {},
     "output_type": "display_data"
    },
    {
     "data": {
      "application/vnd.jupyter.widget-view+json": {
       "model_id": "",
       "version_major": 2,
       "version_minor": 0
      },
      "text/plain": [
       "Render widgets:   0%|          | 0/1 [00:00<?, ?it/s]"
      ]
     },
     "metadata": {},
     "output_type": "display_data"
    },
    {
     "data": {
      "application/vnd.jupyter.widget-view+json": {
       "model_id": "f2f7f6bf601a4e7bb7b90acc2fc53576",
       "version_major": 2,
       "version_minor": 0
      },
      "text/plain": [
       "VBox(children=(Tab(children=(Tab(children=(GridBox(children=(VBox(children=(GridspecLayout(children=(HTML(valu…"
      ]
     },
     "metadata": {},
     "output_type": "display_data"
    }
   ],
   "source": [
    "profile.to_widgets()"
   ]
  },
  {
   "cell_type": "code",
   "execution_count": null,
   "id": "stone-baltimore",
   "metadata": {},
   "outputs": [],
   "source": []
  }
 ],
 "metadata": {
  "kernelspec": {
   "display_name": "Python 3",
   "language": "python",
   "name": "python3"
  },
  "language_info": {
   "codemirror_mode": {
    "name": "ipython",
    "version": 3
   },
   "file_extension": ".py",
   "mimetype": "text/x-python",
   "name": "python",
   "nbconvert_exporter": "python",
   "pygments_lexer": "ipython3",
   "version": "3.7.9"
  }
 },
 "nbformat": 4,
 "nbformat_minor": 5
}
