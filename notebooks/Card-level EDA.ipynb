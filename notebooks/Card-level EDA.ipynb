{
 "cells": [
  {
   "cell_type": "code",
   "execution_count": 9,
   "id": "surprising-macro",
   "metadata": {},
   "outputs": [],
   "source": [
    "import pandas as pd\n",
    "import numpy as np\n",
    "import matplotlib.pyplot as plt\n",
    "%matplotlib inline\n",
    "plt.style.use(\"ggplot\")\n",
    "import sys\n",
    "import os\n",
    "import psycopg2 as psy\n",
    "from psycopg2 import sql\n",
    "from io import StringIO\n",
    "import sqlalchemy\n",
    "from sqlalchemy import create_engine\n",
    "module_path = os.path.abspath(os.path.join('..'))\n",
    "if module_path not in sys.path:\n",
    "    sys.path.append(module_path+\"/src\")\n",
    "import mtg_helpers as mtgh\n",
    "\n",
    "# import psycopg2 as psy\n",
    "# from psycopg2 import sql\n",
    "# from io import StringIO\n",
    "# import sqlalchemy\n",
    "# from sqlalchemy import create_engine\n",
    "\n",
    "con_details = {\"dbname\" : 'pay_to_play', \n",
    "               \"user\" : os.environ['PGSQL_P_USER'], \n",
    "               \"password\" : os.environ['PGSQL_P_PWD'], \n",
    "               \"host\" : 'localhost'} \n"
   ]
  },
  {
   "cell_type": "code",
   "execution_count": 10,
   "id": "impressive-snapshot",
   "metadata": {},
   "outputs": [
    {
     "name": "stdout",
     "output_type": "stream",
     "text": [
      "Connecting to PostgreSQL database...\n",
      "Connection successful\n"
     ]
    }
   ],
   "source": [
    "conn = mtgh.connect(con_details)"
   ]
  },
  {
   "cell_type": "code",
   "execution_count": 11,
   "id": "artistic-happiness",
   "metadata": {},
   "outputs": [],
   "source": [
    "query = sql.SQL(\n",
    "    \"\"\"SELECT \n",
    "            core.uuid, core.name, core.rarity, core.\"setCode\", core.\"keywords\", core.\"convertedManaCost\", \n",
    "            core.type, core.power, core.toughness, core.subtypes, core.supertypes, \n",
    "            setdetails.setname, setdetails.setreleasedate, fixed_prices.price, fixed_prices.\"price_date\"\n",
    "    FROM core\n",
    "    JOIN fixed_prices ON core.uuid = fixed_prices.uuid\n",
    "    JOIN setdetails  ON core.\"setCode\" = setdetails.setcode\"\"\")\n",
    "card_df = pd.read_sql(query, conn)"
   ]
  },
  {
   "cell_type": "code",
   "execution_count": 12,
   "id": "widespread-alcohol",
   "metadata": {},
   "outputs": [
    {
     "data": {
      "text/html": [
       "<div>\n",
       "<style scoped>\n",
       "    .dataframe tbody tr th:only-of-type {\n",
       "        vertical-align: middle;\n",
       "    }\n",
       "\n",
       "    .dataframe tbody tr th {\n",
       "        vertical-align: top;\n",
       "    }\n",
       "\n",
       "    .dataframe thead th {\n",
       "        text-align: right;\n",
       "    }\n",
       "</style>\n",
       "<table border=\"1\" class=\"dataframe\">\n",
       "  <thead>\n",
       "    <tr style=\"text-align: right;\">\n",
       "      <th></th>\n",
       "      <th>convertedManaCost</th>\n",
       "      <th>price</th>\n",
       "    </tr>\n",
       "  </thead>\n",
       "  <tbody>\n",
       "    <tr>\n",
       "      <th>count</th>\n",
       "      <td>3536.000000</td>\n",
       "      <td>3536.000000</td>\n",
       "    </tr>\n",
       "    <tr>\n",
       "      <th>mean</th>\n",
       "      <td>3.030826</td>\n",
       "      <td>1.819762</td>\n",
       "    </tr>\n",
       "    <tr>\n",
       "      <th>std</th>\n",
       "      <td>1.816913</td>\n",
       "      <td>4.962194</td>\n",
       "    </tr>\n",
       "    <tr>\n",
       "      <th>min</th>\n",
       "      <td>0.000000</td>\n",
       "      <td>0.150000</td>\n",
       "    </tr>\n",
       "    <tr>\n",
       "      <th>25%</th>\n",
       "      <td>2.000000</td>\n",
       "      <td>0.250000</td>\n",
       "    </tr>\n",
       "    <tr>\n",
       "      <th>50%</th>\n",
       "      <td>3.000000</td>\n",
       "      <td>0.250000</td>\n",
       "    </tr>\n",
       "    <tr>\n",
       "      <th>75%</th>\n",
       "      <td>4.000000</td>\n",
       "      <td>0.990000</td>\n",
       "    </tr>\n",
       "    <tr>\n",
       "      <th>max</th>\n",
       "      <td>12.000000</td>\n",
       "      <td>109.990000</td>\n",
       "    </tr>\n",
       "  </tbody>\n",
       "</table>\n",
       "</div>"
      ],
      "text/plain": [
       "       convertedManaCost        price\n",
       "count        3536.000000  3536.000000\n",
       "mean            3.030826     1.819762\n",
       "std             1.816913     4.962194\n",
       "min             0.000000     0.150000\n",
       "25%             2.000000     0.250000\n",
       "50%             3.000000     0.250000\n",
       "75%             4.000000     0.990000\n",
       "max            12.000000   109.990000"
      ]
     },
     "execution_count": 12,
     "metadata": {},
     "output_type": "execute_result"
    }
   ],
   "source": [
    "card_df.describe()"
   ]
  },
  {
   "cell_type": "markdown",
   "id": "liked-brain",
   "metadata": {},
   "source": [
    "### This gives a nice view to the ranges of price and converted mana cost across the sets in this analysis."
   ]
  },
  {
   "cell_type": "code",
   "execution_count": 13,
   "id": "western-ownership",
   "metadata": {},
   "outputs": [
    {
     "name": "stdout",
     "output_type": "stream",
     "text": [
      "<class 'pandas.core.frame.DataFrame'>\n",
      "RangeIndex: 3536 entries, 0 to 3535\n",
      "Data columns (total 15 columns):\n",
      " #   Column             Non-Null Count  Dtype  \n",
      "---  ------             --------------  -----  \n",
      " 0   uuid               3536 non-null   object \n",
      " 1   name               3536 non-null   object \n",
      " 2   rarity             3536 non-null   object \n",
      " 3   setCode            3536 non-null   object \n",
      " 4   keywords           1503 non-null   object \n",
      " 5   convertedManaCost  3536 non-null   float64\n",
      " 6   type               3536 non-null   object \n",
      " 7   power              1844 non-null   object \n",
      " 8   toughness          1844 non-null   object \n",
      " 9   subtypes           3536 non-null   object \n",
      " 10  supertypes         3536 non-null   object \n",
      " 11  setname            3536 non-null   object \n",
      " 12  setreleasedate     3536 non-null   object \n",
      " 13  price              3536 non-null   float64\n",
      " 14  price_date         3536 non-null   object \n",
      "dtypes: float64(2), object(13)\n",
      "memory usage: 414.5+ KB\n"
     ]
    }
   ],
   "source": [
    "card_df.info()"
   ]
  },
  {
   "cell_type": "markdown",
   "id": "final-springfield",
   "metadata": {},
   "source": [
    "### Initial sense of the completness of each key column for potential analysis. Some 'gaps' are expected/explainable in that keywords, power, and toughness tend to only apply to creature-types and thus a ~50% null rate is to be expected.  Because of either the inherent nature of the data or custom behavior on some MTG cards, there are very few fields that can be of numeric types.  Of note would be the power and toughness columns as for creatures these are typically integers except for some creatures that have variable values based on the state of the game and are represented as asterisks.  Can still do numerical analysis on these fields by limiting to just those values with pre-defined integer values and casting to int type."
   ]
  },
  {
   "cell_type": "code",
   "execution_count": 14,
   "id": "recovered-crossing",
   "metadata": {},
   "outputs": [
    {
     "data": {
      "text/plain": [
       "array([[<AxesSubplot:title={'center':'ELD'}>,\n",
       "        <AxesSubplot:title={'center':'GRN'}>,\n",
       "        <AxesSubplot:title={'center':'IKO'}>],\n",
       "       [<AxesSubplot:title={'center':'KHM'}>,\n",
       "        <AxesSubplot:title={'center':'M20'}>,\n",
       "        <AxesSubplot:title={'center':'M21'}>],\n",
       "       [<AxesSubplot:title={'center':'RNA'}>,\n",
       "        <AxesSubplot:title={'center':'THB'}>,\n",
       "        <AxesSubplot:title={'center':'WAR'}>],\n",
       "       [<AxesSubplot:title={'center':'ZNR'}>, <AxesSubplot:>,\n",
       "        <AxesSubplot:>]], dtype=object)"
      ]
     },
     "execution_count": 14,
     "metadata": {},
     "output_type": "execute_result"
    },
    {
     "data": {
      "image/png": "[encoded data removed]",
      "text/plain": [
       "<Figure size 432x288 with 12 Axes>"
      ]
     },
     "metadata": {},
     "output_type": "display_data"
    }
   ],
   "source": [
    "#fig, ax = plt.subplots()\n",
    "card_df.hist('rarity', by = 'setCode')\n"
   ]
  },
  {
   "cell_type": "code",
   "execution_count": 15,
   "id": "simple-raising",
   "metadata": {},
   "outputs": [],
   "source": [
    "from pandas_profiling import ProfileReport"
   ]
  },
  {
   "cell_type": "code",
   "execution_count": 17,
   "id": "patient-porter",
   "metadata": {},
   "outputs": [],
   "source": [
    "profile = ProfileReport(card_df, title='Pandas Profiling Report')"
   ]
  },
  {
   "cell_type": "code",
   "execution_count": 18,
   "id": "developmental-drama",
   "metadata": {},
   "outputs": [
    {
     "data": {
      "application/vnd.jupyter.widget-view+json": {
       "model_id": "0e88e48cf8394d0eab6ebab8e8d40a1d",
       "version_major": 2,
       "version_minor": 0
      },
      "text/plain": [
       "Summarize dataset:   0%|          | 0/28 [00:00<?, ?it/s]"
      ]
     },
     "metadata": {},
     "output_type": "display_data"
    },
    {
     "data": {
      "application/vnd.jupyter.widget-view+json": {
       "model_id": "997bad9a56ca4303b3677999cb7e471e",
       "version_major": 2,
       "version_minor": 0
      },
      "text/plain": [
       "Generate report structure:   0%|          | 0/1 [00:00<?, ?it/s]"
      ]
     },
     "metadata": {},
     "output_type": "display_data"
    },
    {
     "data": {
      "application/vnd.jupyter.widget-view+json": {
       "model_id": "",
       "version_major": 2,
       "version_minor": 0
      },
      "text/plain": [
       "Render widgets:   0%|          | 0/1 [00:00<?, ?it/s]"
      ]
     },
     "metadata": {},
     "output_type": "display_data"
    },
    {
     "data": {
      "application/vnd.jupyter.widget-view+json": {
       "model_id": "f2f7f6bf601a4e7bb7b90acc2fc53576",
       "version_major": 2,
       "version_minor": 0
      },
      "text/plain": [
       "VBox(children=(Tab(children=(Tab(children=(GridBox(children=(VBox(children=(GridspecLayout(children=(HTML(valu…"
      ]
     },
     "metadata": {},
     "output_type": "display_data"
    }
   ],
   "source": [
    "profile.to_widgets()"
   ]
  },
  {
   "cell_type": "code",
   "execution_count": null,
   "id": "stone-baltimore",
   "metadata": {},
   "outputs": [],
   "source": []
  }
 ],
 "metadata": {
  "kernelspec": {
   "display_name": "Python 3",
   "language": "python",
   "name": "python3"
  },
  "language_info": {
   "codemirror_mode": {
    "name": "ipython",
    "version": 3
   },
   "file_extension": ".py",
   "mimetype": "text/x-python",
   "name": "python",
   "nbconvert_exporter": "python",
   "pygments_lexer": "ipython3",
   "version": "3.7.9"
  }
 },
 "nbformat": 4,
 "nbformat_minor": 5
}
