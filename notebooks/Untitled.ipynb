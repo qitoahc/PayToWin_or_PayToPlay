{
 "cells": [
  {
   "cell_type": "code",
   "execution_count": 1,
   "id": "naked-circulation",
   "metadata": {},
   "outputs": [],
   "source": [
    "import pandas as pd\n",
    "import numpy as np\n",
    "import matplotlib.pyplot as plt\n",
    "%matplotlib inline\n",
    "plt.style.use(\"ggplot\")\n",
    "import sys\n",
    "import os\n",
    "import psycopg2 as psy\n",
    "from psycopg2 import sql\n",
    "from io import StringIO\n",
    "import sqlalchemy\n",
    "from sqlalchemy import create_engine\n",
    "module_path = os.path.abspath(os.path.join('..'))\n",
    "if module_path not in sys.path:\n",
    "    sys.path.append(module_path+\"/src\")\n",
    "import mtg_helpers as mtgh\n",
    "import scipy.stats as stats\n",
    "\n",
    "\n",
    "con_details = {\"dbname\" : 'pay_to_play', \n",
    "               \"user\" : os.environ['PGSQL_P_USER'], \n",
    "               \"password\" : os.environ['PGSQL_P_PWD'], \n",
    "               \"host\" : 'localhost'} "
   ]
  },
  {
   "cell_type": "code",
   "execution_count": 2,
   "id": "stainless-relations",
   "metadata": {},
   "outputs": [
    {
     "name": "stdout",
     "output_type": "stream",
     "text": [
      "Connecting to PostgreSQL database...\n",
      "Connection successful\n"
     ]
    }
   ],
   "source": [
    "conn = mtgh.connect(con_details)"
   ]
  },
  {
   "cell_type": "code",
   "execution_count": null,
   "id": "convertible-bedroom",
   "metadata": {},
   "outputs": [],
   "source": []
  }
 ],
 "metadata": {
  "kernelspec": {
   "display_name": "Python 3",
   "language": "python",
   "name": "python3"
  },
  "language_info": {
   "codemirror_mode": {
    "name": "ipython",
    "version": 3
   },
   "file_extension": ".py",
   "mimetype": "text/x-python",
   "name": "python",
   "nbconvert_exporter": "python",
   "pygments_lexer": "ipython3",
   "version": "3.7.9"
  }
 },
 "nbformat": 4,
 "nbformat_minor": 5
}
