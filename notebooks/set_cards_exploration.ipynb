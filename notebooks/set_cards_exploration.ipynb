{
 "cells": [
  {
   "cell_type": "code",
   "execution_count": 4,
   "id": "organic-allah",
   "metadata": {},
   "outputs": [],
   "source": [
    "import json\n",
    "import pandas as pd\n",
    "import numpy as np\n",
    "import os\n",
    "import sys\n",
    "\n",
    "\n",
    "import psycopg2 as psy\n",
    "from psycopg2 import sql\n",
    "from io import StringIO\n",
    "import sqlalchemy\n",
    "from sqlalchemy import create_engine\n",
    "\n",
    "module_path = os.path.abspath(os.path.join('..'))\n",
    "if module_path not in sys.path:\n",
    "    sys.path.append(module_path+\"/src\")\n",
    "    \n",
    "from mtg_helpers import *\n",
    "\n",
    "con_details = {\"dbname\" : 'pay_to_play', \n",
    "               \"user\" : os.environ['PGSQL_P_USER'], \n",
    "               \"password\" : os.environ['PGSQL_P_PWD'], \n",
    "               \"host\" : 'localhost'} "
   ]
  },
  {
   "cell_type": "code",
   "execution_count": 204,
   "id": "african-country",
   "metadata": {},
   "outputs": [],
   "source": [
    "data_path = '../data/MTGJSONcards/'\n",
    "file_name = 'WAR.json'\n",
    "file = open(data_path+file_name, 'r')\n",
    "card_data = json.load(file)['data']\n"
   ]
  },
  {
   "cell_type": "code",
   "execution_count": 205,
   "id": "boolean-finding",
   "metadata": {},
   "outputs": [
    {
     "name": "stdout",
     "output_type": "stream",
     "text": [
      "dict_keys(['baseSetSize', 'block', 'booster', 'cards', 'code', 'isFoilOnly', 'isOnlineOnly', 'keyruneCode', 'mcmId', 'mcmIdExtras', 'mcmName', 'mtgoCode', 'name', 'releaseDate', 'tcgplayerGroupId', 'tokens', 'totalSetSize', 'translations', 'type'])\n"
     ]
    }
   ],
   "source": [
    "print(card_data.keys())"
   ]
  },
  {
   "cell_type": "code",
   "execution_count": 206,
   "id": "stuck-replica",
   "metadata": {},
   "outputs": [
    {
     "name": "stdout",
     "output_type": "stream",
     "text": [
      "Successful updating of setdetails\n"
     ]
    }
   ],
   "source": [
    "set_details = pd.DataFrame({'setcode':card_data['code'], 'setname':card_data['name'], 'setreleasedate': card_data['releaseDate']}, index=[0])\n",
    "#set_details = pd.DataFrame(data = set_data.values(), columns = set_data.keys())\n",
    "add_new_card_data(con_details, set_details, \"setdetails\")\n",
    "#set_details"
   ]
  },
  {
   "cell_type": "code",
   "execution_count": 208,
   "id": "sunrise-grocery",
   "metadata": {},
   "outputs": [
    {
     "name": "stdout",
     "output_type": "stream",
     "text": [
      "Key baseSetSize has values of <class 'int'> type with a value of 264\n",
      "Key block has values of <class 'str'> type with a value of Guilds of Ravnica\n",
      "Key booster has values of <class 'dict'> type with a length of 2\n",
      "Key cards has values of <class 'list'> type with a length of 311\n",
      "Key code has values of <class 'str'> type with a value of WAR\n",
      "Key isFoilOnly has values of <class 'bool'> type with a value of False\n",
      "Key isOnlineOnly has values of <class 'bool'> type with a value of False\n",
      "Key keyruneCode has values of <class 'str'> type with a value of WAR\n",
      "Key mcmId has values of <class 'int'> type with a value of 2439\n",
      "Key mcmIdExtras has values of <class 'int'> type with a value of 2451\n",
      "Key mcmName has values of <class 'str'> type with a value of War of the Spark\n",
      "Key mtgoCode has values of <class 'str'> type with a value of WAR\n",
      "Key name has values of <class 'str'> type with a value of War of the Spark\n",
      "Key releaseDate has values of <class 'str'> type with a value of 2019-05-03\n",
      "Key tcgplayerGroupId has values of <class 'int'> type with a value of 2418\n",
      "Key tokens has values of <class 'list'> type with a length of 19\n",
      "Key totalSetSize has values of <class 'int'> type with a value of 311\n",
      "Key translations has values of <class 'dict'> type with a length of 10\n",
      "Key type has values of <class 'str'> type with a value of expansion\n"
     ]
    }
   ],
   "source": [
    "types = [int, float, bool, str]\n",
    "dict_peek(card_data, types)"
   ]
  },
  {
   "cell_type": "code",
   "execution_count": null,
   "id": "educated-referral",
   "metadata": {},
   "outputs": [],
   "source": []
  },
  {
   "cell_type": "raw",
   "id": "facial-robinson",
   "metadata": {},
   "source": [
    "Successfully loaded file from current set.  Data portion of JSON has a mix of information it appears, with some being scalar or scalar-esque data types (int, str, bool) and others being collections (dict, list).  Some of the items I'd expected to be card-level data appears to be set level... so the collections must have more of the card data. Let's explore the collections..."
   ]
  },
  {
   "cell_type": "code",
   "execution_count": 209,
   "id": "cloudy-exposure",
   "metadata": {},
   "outputs": [
    {
     "name": "stdout",
     "output_type": "stream",
     "text": [
      "Let's explore booster\n",
      "Key arena has values of <class 'dict'> type with a length of 4\n",
      "Key default has values of <class 'dict'> type with a length of 3\n",
      "Let's explore translations\n",
      "Key Chinese Simplified has values of <class 'NoneType'> type with a value of None\n",
      "Key Chinese Traditional has values of <class 'NoneType'> type with a value of None\n",
      "Key French has values of <class 'str'> type with a value of La Guerre des Planeswlakers\n",
      "Key German has values of <class 'NoneType'> type with a value of None\n",
      "Key Italian has values of <class 'NoneType'> type with a value of None\n",
      "Key Japanese has values of <class 'NoneType'> type with a value of None\n",
      "Key Korean has values of <class 'NoneType'> type with a value of None\n",
      "Key Portuguese (Brazil) has values of <class 'NoneType'> type with a value of None\n",
      "Key Russian has values of <class 'NoneType'> type with a value of None\n",
      "Key Spanish has values of <class 'NoneType'> type with a value of None\n"
     ]
    }
   ],
   "source": [
    "for k, v in card_data.items():\n",
    "    if type(v) == dict:\n",
    "        print(\"Let's explore \" + k)\n",
    "        dict_peek(v, types)\n",
    "        "
   ]
  },
  {
   "cell_type": "code",
   "execution_count": 210,
   "id": "human-treaty",
   "metadata": {},
   "outputs": [
    {
     "name": "stdout",
     "output_type": "stream",
     "text": [
      "Key boosters has values of <class 'list'> type with a length of 2\n",
      "Key boostersTotalWeight has values of <class 'int'> type with a value of 121\n",
      "Key name has values of <class 'str'> type with a value of War of the Spark Arena Booster\n",
      "Key sheets has values of <class 'dict'> type with a length of 5\n"
     ]
    }
   ],
   "source": [
    "dict_peek(card_data['booster']['arena'], types)"
   ]
  },
  {
   "cell_type": "code",
   "execution_count": 212,
   "id": "unusual-table",
   "metadata": {},
   "outputs": [
    {
     "name": "stdout",
     "output_type": "stream",
     "text": [
      "Key boosters has values of <class 'list'> type with a length of 4\n",
      "Key boostersTotalWeight has values of <class 'int'> type with a value of 4840\n",
      "Key sheets has values of <class 'dict'> type with a length of 7\n"
     ]
    }
   ],
   "source": [
    "dict_peek(card_data['booster']['default'], types)"
   ]
  },
  {
   "cell_type": "code",
   "execution_count": 214,
   "id": "separated-district",
   "metadata": {},
   "outputs": [
    {
     "name": "stdout",
     "output_type": "stream",
     "text": [
      "[{'artist': 'Wisnu Tan', 'availability': ['arena', 'mtgo', 'paper'], 'borderColor': 'black', 'colorIdentity': [], 'colors': [], 'convertedManaCost': 4.0, 'edhrecRank': 1100, 'foreignData': [{'language': 'German', 'multiverseId': 461192, 'name': 'Karn, der Große Schöpfer', 'text': 'Aktivierte Fähigkeiten von Artefakten, die deine Gegner kontrollieren, können nicht aktiviert werden.\\n+1: Bis zu deinem nächsten Zug wird bis zu ein Nichtkreatur-Artefakt deiner Wahl zu einer Artefaktkreatur mit Stärke und Widerstandskraft jeweils gleich ihrer umgewandelten Manakosten.\\n−2: Du kannst eine Artefaktkarte bestimmen, die du besitzt und die sich außerhalb der Partie oder im Exil befindet, sie offen vorzeigen und auf deine Hand nehmen.', 'type': 'Legendärer Planeswalker — Karn'}, {'language': 'Spanish', 'multiverseId': 461456, 'name': 'Karn, el Gran Creador', 'text': 'Las habilidades activadas de los artefactos que controlan tus oponentes no pueden activarse.\\n+1: Hasta tu próximo turno, hasta un artefacto objetivo que no sea criatura se convierte en una criatura artefacto con fuerza y resistencia iguales a su coste de maná convertido.\\n−2: Puedes elegir una carta de artefacto de fuera del juego o del exilio de la cual eres propietario, mostrar esa carta y ponerla en tu mano.', 'type': 'Planeswalker legendario — Karn'}, {'language': 'French', 'multiverseId': 461720, 'name': 'Karn, le grand créateur', 'text': \"Les capacités activées des artefacts que vos adversaires contrôlent ne peuvent pas être activées.\\n+1 : Jusqu'à votre prochain tour, jusqu'à un artefact non-créature ciblé devient une créature-artefact dont la force et l'endurance sont chacune égales à son coût converti de mana.\\n-2 : Vous pouvez choisir une carte d'artefact que vous possédez en dehors de la partie ou en exil, révéler cette carte et la mettre dans votre main.\", 'type': 'Planeswalker légendaire : Karn'}, {'language': 'Italian', 'multiverseId': 461984, 'name': 'Karn, il Grande Creatore', 'text': 'Le abilità attivate degli artefatti controllati dai tuoi avversari non possono essere attivate.\\n+1: Fino al tuo prossimo turno, fino a un artefatto non creatura bersaglio diventa una creatura artefatto con forza e costituzione pari al proprio costo di mana convertito.\\n-2: Puoi scegliere una carta artefatto che possiedi al di fuori della partita o in esilio, rivelare quella carta e aggiungerla alla tua mano.', 'type': 'Planeswalker Leggendario — Karn'}, {'language': 'Japanese', 'multiverseId': 462248, 'name': '大いなる創造者、カーン', 'text': '対戦相手がコントロールしているアーティファクトの起動型能力は起動できない。\\n+1：クリーチャーでないアーティファクト最大１つを対象とする。あなたの次のターンまで、それはパワーとタフネスがそれぞれそれの点数で見たマナ・コストに等しいアーティファクト・クリーチャーになる。\\n-2：あなたは、ゲームの外部か追放領域にありあなたがオーナーであるアーティファクト・カード１枚を選び、そのカードを公開してあなたの手札に加えてもよい。', 'type': '伝説のプレインズウォーカー — カーン'}, {'language': 'Korean', 'multiverseId': 462512, 'name': '위대한 창조자, 카른', 'text': '당신의 상대들이 조종하는 마법물체들의 활성화능력은 활성화될 수 없다.\\n+1: 생물이 아닌 마법물체를 최대 한 개까지 목표로 정한다. 당신의 다음 턴까지, 그 마법물체는 자신의 전환마나비용과 같은 공격력과 방어력을 가진 마법물체 생물이 된다.\\n−2: 당신은 게임 밖 또는 추방 영역에서 당신이 소유한 카드 중 마법물체 카드 한 장을 선택해, 공개한 후, 당신의 손에 넣을 수 있다.', 'type': '전설적 플레인즈워커 — 카른'}, {'language': 'Portuguese (Brazil)', 'multiverseId': 462776, 'name': 'Karn, o Grande Criador', 'text': 'As habilidades ativadas dos artefatos que seus oponentes controlam não podem ser ativadas.\\n+1: Até seu próximo turno, até um artefato alvo que não seja uma criatura se torna uma criatura artefato com poder e resistência iguais ao próprio custo de mana convertido.\\n−2: Você pode escolher um card de artefato seu que esteja fora do jogo ou no exílio, revelar aquele card e colocá-lo em sua mão.', 'type': 'Planeswalker Lendário — Karn'}, {'language': 'Russian', 'multiverseId': 463040, 'name': 'Карн, Великий Творец', 'text': 'Активируемые способности артефактов под контролем ваших оппонентов не могут быть активированы.\\n+1: до вашего следующего хода не более одного целевого не являющегося существом артефакта становится артефактом существом, сила и выносливость которого равны его конвертированной мана-стоимости.\\n—2: вы можете выбрать принадлежащую вам карту артефакта вне игры или в изгнании, показать ту карту и положить ее в вашу руку.', 'type': 'Легендарный Planeswalker — Карн'}, {'language': 'Chinese Simplified', 'multiverseId': 463304, 'name': '万创卡恩', 'text': '由对手操控的神器之起动式异能都不能起动。\\n+1：直到你的下一个回合，至多一个目标非生物的神器成为神器生物，其力量和防御力各等同于其总法术力费用。\\n−2：你可以从游戏外或放逐区中选择一张由你拥有的神器牌，展示该牌，并将它置于你手上。', 'type': '传奇鹏洛客 ～卡恩'}, {'language': 'Chinese Traditional', 'multiverseId': 463568, 'name': '萬創卡恩', 'text': '由對手操控的神器之起動式異能都不能起動。\\n+1：直到你的下一個回合，至多一個目標非生物的神器成為神器生物，其力量和防禦力各等同於其總魔法力費用。\\n−2：你可以從遊戲外或放逐區中選擇一張由你擁有的神器牌，展示該牌，並將它置於你手上。', 'type': '傳奇鵬洛客 ～卡恩'}], 'frameVersion': '2015', 'hasFoil': True, 'hasNonFoil': True, 'identifiers': {'cardKingdomFoilId': '224504', 'cardKingdomId': '224202', 'mcmId': '372131', 'mcmMetaId': '269492', 'mtgArenaId': '69452', 'mtgjsonV4Id': 'deed338c-e0fc-5f5e-8278-b291b2953a4e', 'mtgoId': '71608', 'multiverseId': '460928', 'scryfallId': '3ec0c0fb-1a4f-45f4-85b7-346a6d3ce2c5', 'scryfallIllustrationId': '91e727f7-49ac-4159-bb23-76fd8ed60746', 'scryfallOracleId': 'a20dd48d-d344-4db1-b0e9-a2b71c3cc9d1', 'tcgplayerProductId': '188386'}, 'layout': 'normal', 'leadershipSkills': {'brawl': False, 'commander': False, 'oathbreaker': True}, 'legalities': {'commander': 'Legal', 'duel': 'Legal', 'gladiator': 'Legal', 'historic': 'Legal', 'legacy': 'Legal', 'modern': 'Legal', 'pioneer': 'Legal', 'vintage': 'Restricted'}, 'loyalty': '5', 'manaCost': '{4}', 'name': 'Karn, the Great Creator', 'number': '1', 'originalText': \"Activated abilities of artifacts your opponents control can't be activated.\\n+1: Until your next turn, up to one target noncreature artifact becomes an artifact creature with power and toughness each equal to its converted mana cost.\\n−2: You may choose an artifact card you own from outside the game or in exile, reveal that card, and put it into your hand.\", 'originalType': 'Legendary Planeswalker — Karn', 'printings': ['PRM', 'PWAR', 'SLD', 'WAR'], 'purchaseUrls': {'cardKingdom': 'https://mtgjson.com/links/878bd1ce7d3b2377', 'cardKingdomFoil': 'https://mtgjson.com/links/320796f2209ca047', 'cardmarket': 'https://mtgjson.com/links/85cfdcea53f70488', 'tcgplayer': 'https://mtgjson.com/links/0fb176241694aef1'}, 'rarity': 'rare', 'rulings': [{'date': '2019-05-03', 'text': 'Activated abilities contain a colon. They’re generally written “[Cost]: [Effect].” Some keyword abilities are activated abilities and will have colons in their reminder text, such as equip. Triggered abilities (starting with “when,” “whenever,” or “at”) are unaffected by Karn.'}, {'date': '2019-05-03', 'text': 'Karn’s first ability affects only artifacts on the battlefield. Activated abilities that work in other zones can still be activated.'}, {'date': '2019-05-03', 'text': 'A noncreature permanent that turns into a creature can attack, and its {T} abilities can be activated, only if its controller has continuously controlled that permanent since the beginning of their most recent turn. It doesn’t matter how long the permanent has been a creature.'}, {'date': '2019-05-03', 'text': 'If a permanent has {X} in its mana cost, X is considered to be 0.'}, {'date': '2019-05-03', 'text': 'Karn’s last ability can’t get a face-down card in exile, even if you know it’s an artifact card.'}, {'date': '2019-05-03', 'text': 'In a casual game, a card you choose from outside the game comes from your personal collection. In a tournament event, a card you choose from outside the game must come from your sideboard. You may look at your sideboard at any time.'}], 'setCode': 'WAR', 'subtypes': ['Karn'], 'supertypes': ['Legendary'], 'text': \"Activated abilities of artifacts your opponents control can't be activated.\\n[+1]: Until your next turn, up to one target noncreature artifact becomes an artifact creature with power and toughness each equal to its converted mana cost.\\n[−2]: You may reveal an artifact card you own from outside the game or choose a face-up artifact card you own in exile. Put that card into your hand.\", 'type': 'Legendary Planeswalker — Karn', 'types': ['Planeswalker'], 'uuid': '0a679f46-9f50-5ac1-a6bf-c802c67fc0a0', 'variations': ['ba2d7f48-9846-5343-ae02-913b7e6a18d0']}, {'artist': 'Sidharth Chaturvedi', 'availability': ['arena', 'mtgo', 'paper'], 'borderColor': 'black', 'colorIdentity': ['W'], 'colors': ['W'], 'convertedManaCost': 2.0, 'edhrecRank': 1691, 'flavorText': 'Planeswalkers conjured replicas of old allies, reminders of the homeworlds that would fall next if Bolas prevailed.', 'foreignData': [{'flavorText': 'Die Planeswalker beschworen die Ebenbilder alter Verbündeter herauf, deren Heimatwelten ebenfalls fallen würden, sollte Bolas siegreich sein.', 'language': 'German', 'multiverseId': 461195, 'name': 'Ajanis Rudelmitglied', 'text': 'Immer wenn du Lebenspunkte dazuerhältst, lege eine +1/+1-Marke auf Ajanis Rudelmitglied.', 'type': 'Kreatur — Katze, Soldat'}, {'flavorText': 'Los planeswalkers invocaron réplicas de antiguos aliados que les recordaban sus mundos natales; mundos que caerían si Nicol Bolas conseguía vencer.', 'language': 'Spanish', 'multiverseId': 461459, 'name': 'Compañero de manada de Ajani', 'text': 'Siempre que ganes vidas, pon un contador +1/+1 sobre el Compañero de manada de Ajani.', 'type': 'Criatura — Soldado felino'}, {'flavorText': \"Les Planeswalkers conjurèrent des répliques d'anciens alliés, rappelant ainsi que d'autres mondes disparaîtraient si Bolas l'emportait.\", 'language': 'French', 'multiverseId': 461723, 'name': \"Frère de bande d'Ajani\", 'text': \"À chaque fois que vous gagnez des points de vie, mettez un marqueur +1/+1 sur le Frère de bande d'Ajani.\", 'type': 'Créature : chat et soldat'}, {'flavorText': 'I Planeswalker evocarono repliche di antichi alleati, ricordi dei mondi che sarebbero caduti se Bolas avesse trionfato.', 'language': 'Italian', 'multiverseId': 461987, 'name': 'Compagno di Ajani', 'text': 'Ogniqualvolta guadagni punti vita, metti un segnalino +1/+1 sul Compagno di Ajani.', 'type': 'Creatura — Soldato Felino'}, {'flavorText': 'プレインズウォーカーたちはかつての仲間の複製を呼び出した。次にボーラスの餌食となるかもしれない故郷のことを肝に銘じるためである。', 'language': 'Japanese', 'multiverseId': 462251, 'name': 'アジャニの群れ仲間', 'text': 'あなたがライフを得るたび、アジャニの群れ仲間の上に＋１/＋１カウンターを１個置く。', 'type': 'クリーチャー — 猫・兵士'}, {'flavorText': '플레인즈워커들은 볼라스가 승리하는 경우 그 다음으로 함락될 고향을 상기시켜 주는 옛 동료들의 복제품을 불러내었다.', 'language': 'Korean', 'multiverseId': 462515, 'name': '아자니의 형제', 'text': '당신이 생명점을 얻을 때마다, 아자니의 형제에 +1/+1 카운터 한 개를 올려놓을 수 있다.', 'type': '생물 — 고양이 병사'}, {'flavorText': 'Os planeswalkers conjuraram réplicas de antigos aliados, lembranças de terras natais que cairiam em seguida se Nicol Bolas vencesse.', 'language': 'Portuguese (Brazil)', 'multiverseId': 462779, 'name': 'Companheiro de Bando de Ajani', 'text': 'Toda vez que você ganhar pontos de vida, coloque um marcador +1/+1 em Companheiro de Bando de Ajani.', 'type': 'Criatura — Felino Soldado'}, {'flavorText': 'Planeswalker-ы творили двойников своих старинных союзников, напоминавших им о родных мирах — тех, что падут следующими, если победит Болас.', 'language': 'Russian', 'multiverseId': 463043, 'name': 'Соплеменник Аджани', 'text': 'Каждый раз, когда вы получаете жизнь(-и), положите один жетон +1/+1 на Соплеменника Аджани.', 'type': 'Существо — Кошка Солдат'}, {'flavorText': '鹏洛客变幻出旧时战友的模样，提醒自己：倘若这次波拉斯得胜，下一个遭殃的便是自己的家园。', 'language': 'Chinese Simplified', 'multiverseId': 463307, 'name': '阿耶尼的群伴', 'text': '每当你获得生命时，在阿耶尼的群伴上放置一个+1/+1指示物。', 'type': '生物 ～猫／士兵'}, {'flavorText': '鵬洛客變幻出舊時戰友的模樣，提醒自己：倘若這次波拉斯得勝，下一個遭殃的便是自己的家園。', 'language': 'Chinese Traditional', 'multiverseId': 463571, 'name': '阿耶尼的群伴', 'text': '每當你獲得生命時，在阿耶尼的群伴上放置一個+1/+1指示物。', 'type': '生物 ～貓／士兵'}], 'frameVersion': '2015', 'hasFoil': True, 'hasNonFoil': True, 'identifiers': {'cardKingdomFoilId': '224343', 'cardKingdomId': '224030', 'mcmId': '371810', 'mcmMetaId': '200373', 'mtgArenaId': '69455', 'mtgjsonV4Id': 'aeb9f482-1c16-5564-815c-c84efdc307a4', 'mtgoId': '71614', 'multiverseId': '460931', 'scryfallId': 'b3656310-093d-4724-a399-7f7010843b1f', 'scryfallIllustrationId': '9731242a-018f-4c7b-bd58-5df3a273bc7d', 'scryfallOracleId': '95e94dea-5ac0-4d6f-adec-ca147aee861f', 'tcgplayerProductId': '187127'}, 'isReprint': True, 'layout': 'normal', 'legalities': {'commander': 'Legal', 'duel': 'Legal', 'gladiator': 'Legal', 'historic': 'Legal', 'legacy': 'Legal', 'modern': 'Legal', 'penny': 'Legal', 'pioneer': 'Legal', 'vintage': 'Legal'}, 'manaCost': '{1}{W}', 'name': \"Ajani's Pridemate\", 'number': '4', 'originalText': \"Whenever you gain life, put a +1/+1 counter on Ajani's Pridemate.\", 'originalType': 'Creature — Cat Soldier', 'power': '2', 'printings': ['C13', 'DDH', 'IMA', 'M11', 'M15', 'M19', 'MB1', 'WAR'], 'purchaseUrls': {'cardKingdom': 'https://mtgjson.com/links/435cef1b2b2847b3', 'cardKingdomFoil': 'https://mtgjson.com/links/64a0d43dbe57268d', 'cardmarket': 'https://mtgjson.com/links/d6197211c6889881', 'tcgplayer': 'https://mtgjson.com/links/67ca72b65b5103d8'}, 'rarity': 'uncommon', 'rulings': [{'date': '2019-05-03', 'text': 'The ability of Ajani’s Pridemate triggers just once for each life-gaining event, whether it’s 1 life from Ajani’s Welcome or 2 life from Battlefield Promotion.'}, {'date': '2019-05-03', 'text': 'If Ajani’s Pridemate is dealt lethal damage at the same time that you gain life, it won’t receive a counter from its ability in time to save it.'}, {'date': '2019-05-03', 'text': 'Each creature with lifelink dealing combat damage causes a separate life-gaining event. For example, if two creatures you control with lifelink deal combat damage at the same time, Ajani’s Pridemate’s ability will trigger twice. However, if a single creature you control with lifelink deals combat damage to multiple creatures, players, and/or planeswalkers at the same time (perhaps because it has trample or was blocked by more than one creature), the ability will trigger only once.'}, {'date': '2019-05-03', 'text': 'If you gain an amount of life “for each” of something, that life is gained as one event and the ability of Ajani’s Pridemate triggers only once.'}, {'date': '2019-05-03', 'text': 'In a Two-Headed Giant game, life gained by your teammate won’t cause the ability to trigger, even though it caused your team’s life total to increase.'}], 'setCode': 'WAR', 'subtypes': ['Cat', 'Soldier'], 'supertypes': [], 'text': \"Whenever you gain life, put a +1/+1 counter on Ajani's Pridemate.\", 'toughness': '2', 'type': 'Creature — Cat Soldier', 'types': ['Creature'], 'uuid': 'd451691b-6cc7-5ea7-968b-2abae1beb622'}, {'artist': 'Scott Murphy', 'availability': ['arena', 'mtgo', 'paper'], 'borderColor': 'black', 'colorIdentity': ['W'], 'colors': ['W'], 'convertedManaCost': 2.0, 'edhrecRank': 8333, 'flavorText': '\"Welcome to the Legion. You saved a district—now let\\'s go save the world.\"', 'foreignData': [{'flavorText': '„Willkommen in der Legion. Du hast einen Distrikt gerettet — jetzt lass uns die Welt retten.\"', 'language': 'German', 'multiverseId': 461196, 'name': 'Beförderung im Kampf', 'text': 'Lege eine +1/+1-Marke auf eine Kreatur deiner Wahl. Die Kreatur erhält Erstschlag bis zum Ende des Zuges. Du erhältst 2 Lebenspunkte dazu.', 'type': 'Spontanzauber'}, {'flavorText': '\"Bienvenida a la Legión. Ya salvaste un distrito; ahora, salvemos el mundo\".', 'language': 'Spanish', 'multiverseId': 461460, 'name': 'Ascenso en batalla', 'text': 'Pon un contador +1/+1 sobre la criatura objetivo. Esa criatura gana la habilidad de dañar primero hasta el final del turno. Ganas 2 vidas.', 'type': 'Instantáneo'}, {'flavorText': '« Bienvenue dans la Légion ! Vous avez sauvé une circonscription... Maintenant, allez sauver le monde. »', 'language': 'French', 'multiverseId': 461724, 'name': 'Promotion de campagne', 'text': \"Mettez un marqueur +1/+1 sur la créature ciblée. Cette créature acquiert l'initiative jusqu'à la fin du tour. Vous gagnez 2 points de vie.\", 'type': 'Éphémère'}, {'flavorText': '\"Benvenuta nella Legione. Hai salvato un distretto... ora andiamo a salvare il mondo.\"', 'language': 'Italian', 'multiverseId': 461988, 'name': 'Promozione sul Campo', 'text': 'Metti un segnalino +1/+1 su una creatura bersaglio. Quella creatura ha attacco improvviso fino alla fine del turno. Guadagni 2 punti vita.', 'type': 'Istantaneo'}, {'flavorText': '「ボロス軍へようこそ。君はこの管区を救った。次は世界を救ってくれ。」', 'language': 'Japanese', 'multiverseId': 462252, 'name': '戦地昇進', 'text': 'クリーチャー１体を対象とし、それの上に＋１/＋１カウンターを１個置く。ターン終了時まで、そのクリーチャーは先制攻撃を得る。あなたは２点のライフを得る。', 'type': 'インスタント'}, {'flavorText': '\"군단에 온 것을 환영하네. 자네는 거리를 구했네—이제는 세계를 구하러 가세.\"', 'language': 'Korean', 'multiverseId': 462516, 'name': '전쟁터 속 승격', 'text': '생물을 목표로 정한다. 그 생물에 +1/+1 카운터 한 개를 올려놓는다. 그 생물은 턴종료까지 선제공격을 얻는다. 당신은 생명 2점을 얻는다.', 'type': '순간마법'}, {'flavorText': '\"Bem-vinda à Legião. Você salvou um distrito, agora é hora de salvar o mundo.\"', 'language': 'Portuguese (Brazil)', 'multiverseId': 462780, 'name': 'Promoção em Campo', 'text': 'Coloque um marcador +1/+1 na criatura alvo. Aquela criatura ganha iniciativa até o final do turno. Você ganha 2 pontos de vida.', 'type': 'Mágica Instantânea'}, {'flavorText': '«Добро пожаловать в Легион. Ты спасла округ — теперь давай спасать мир».', 'language': 'Russian', 'multiverseId': 463044, 'name': 'Боевое Повышение', 'text': 'Положите один жетон +1/+1 на целевое существо. То существо получает Первый удар до конца хода. Вы получаете 2 жизни.', 'type': 'Мгновенное заклинание'}, {'flavorText': '「欢迎加入教团。你拯救了这片城区～现在让我们一同拯救世界。」', 'language': 'Chinese Simplified', 'multiverseId': 463308, 'name': '战场晋升', 'text': '在目标生物上放置一个+1/+1指示物。该生物获得先攻异能直到回合结束。你获得2点生命。', 'type': '瞬间'}, {'flavorText': '「歡迎加入教團。你拯救了這片城區～現在讓我們一同拯救世界。」', 'language': 'Chinese Traditional', 'multiverseId': 463572, 'name': '戰場晉陞', 'text': '在目標生物上放置一個+1/+1指示物。該生物獲得先攻異能直到回合結束。你獲得2點生命。', 'type': '瞬間'}], 'frameVersion': '2015', 'hasFoil': True, 'hasNonFoil': True, 'identifiers': {'cardKingdomFoilId': '224570', 'cardKingdomId': '224281', 'mcmId': '372515', 'mcmMetaId': '269802', 'mtgArenaId': '69456', 'mtgjsonV4Id': '9b526739-7d23-5bc2-b078-3fec918bcc9e', 'mtgoId': '71616', 'multiverseId': '460932', 'scryfallId': '89f8e970-b90c-4829-8970-0a3364027bbb', 'scryfallIllustrationId': '08767d72-af36-48b9-9db0-59c8fbec56a2', 'scryfallOracleId': '303d74d0-84db-4694-bb1a-470cf470bc4f', 'tcgplayerProductId': '188868'}, 'layout': 'normal', 'legalities': {'commander': 'Legal', 'duel': 'Legal', 'gladiator': 'Legal', 'historic': 'Legal', 'legacy': 'Legal', 'modern': 'Legal', 'pauper': 'Legal', 'penny': 'Legal', 'pioneer': 'Legal', 'vintage': 'Legal'}, 'manaCost': '{1}{W}', 'name': 'Battlefield Promotion', 'number': '5', 'originalText': 'Put a +1/+1 counter on target creature. That creature gains first strike until end of turn. You gain 2 life.', 'originalType': 'Instant', 'printings': ['JMP', 'WAR'], 'purchaseUrls': {'cardKingdom': 'https://mtgjson.com/links/c1b4ca4c4db3a1c3', 'cardKingdomFoil': 'https://mtgjson.com/links/4a94114e5eb8d428', 'cardmarket': 'https://mtgjson.com/links/2f83073ffae9156b', 'tcgplayer': 'https://mtgjson.com/links/f2cd9383a1512fc7'}, 'rarity': 'common', 'rulings': [{'date': '2019-05-03', 'text': 'If the target creature is an illegal target by the time Battlefield Promotion tries to resolve, the spell doesn’t resolve. You don’t gain 2 life.'}], 'setCode': 'WAR', 'subtypes': [], 'supertypes': [], 'text': 'Put a +1/+1 counter on target creature. That creature gains first strike until end of turn. You gain 2 life.', 'type': 'Instant', 'types': ['Instant'], 'uuid': '470332c9-e7d4-5b11-b0ca-4c9f877f8e5c'}]\n"
     ]
    }
   ],
   "source": [
    "#explore cards and tokens\n",
    "print(card_data['cards'][:3])"
   ]
  },
  {
   "cell_type": "code",
   "execution_count": 215,
   "id": "controversial-piano",
   "metadata": {},
   "outputs": [],
   "source": [
    "cards = pd.DataFrame(card_data['cards'])"
   ]
  },
  {
   "cell_type": "code",
   "execution_count": 216,
   "id": "detailed-yukon",
   "metadata": {
    "scrolled": true
   },
   "outputs": [
    {
     "name": "stdout",
     "output_type": "stream",
     "text": [
      "<class 'pandas.core.frame.DataFrame'>\n",
      "RangeIndex: 311 entries, 0 to 310\n",
      "Data columns (total 44 columns):\n",
      " #   Column             Non-Null Count  Dtype  \n",
      "---  ------             --------------  -----  \n",
      " 0   artist             311 non-null    object \n",
      " 1   availability       311 non-null    object \n",
      " 2   borderColor        311 non-null    object \n",
      " 3   colorIdentity      311 non-null    object \n",
      " 4   colors             311 non-null    object \n",
      " 5   convertedManaCost  311 non-null    float64\n",
      " 6   edhrecRank         296 non-null    float64\n",
      " 7   foreignData        311 non-null    object \n",
      " 8   frameVersion       311 non-null    object \n",
      " 9   hasFoil            311 non-null    bool   \n",
      " 10  hasNonFoil         311 non-null    bool   \n",
      " 11  identifiers        311 non-null    object \n",
      " 12  layout             311 non-null    object \n",
      " 13  leadershipSkills   91 non-null     object \n",
      " 14  legalities         311 non-null    object \n",
      " 15  loyalty            75 non-null     object \n",
      " 16  manaCost           288 non-null    object \n",
      " 17  name               311 non-null    object \n",
      " 18  number             311 non-null    object \n",
      " 19  originalText       270 non-null    object \n",
      " 20  originalType       275 non-null    object \n",
      " 21  printings          311 non-null    object \n",
      " 22  purchaseUrls       311 non-null    object \n",
      " 23  rarity             311 non-null    object \n",
      " 24  rulings            311 non-null    object \n",
      " 25  setCode            311 non-null    object \n",
      " 26  subtypes           311 non-null    object \n",
      " 27  supertypes         311 non-null    object \n",
      " 28  text               306 non-null    object \n",
      " 29  type               311 non-null    object \n",
      " 30  types              311 non-null    object \n",
      " 31  uuid               311 non-null    object \n",
      " 32  variations         87 non-null     object \n",
      " 33  flavorText         178 non-null    object \n",
      " 34  isReprint          28 non-null     object \n",
      " 35  power              113 non-null    object \n",
      " 36  toughness          113 non-null    object \n",
      " 37  keywords           107 non-null    object \n",
      " 38  isAlternative      36 non-null     object \n",
      " 39  promoTypes         37 non-null     object \n",
      " 40  isStorySpotlight   27 non-null     object \n",
      " 41  frameEffects       21 non-null     object \n",
      " 42  isStarter          11 non-null     object \n",
      " 43  isPromo            1 non-null      object \n",
      "dtypes: bool(2), float64(2), object(40)\n",
      "memory usage: 102.8+ KB\n"
     ]
    }
   ],
   "source": [
    "cards.info()"
   ]
  },
  {
   "cell_type": "code",
   "execution_count": 217,
   "id": "historical-tunisia",
   "metadata": {},
   "outputs": [
    {
     "data": {
      "text/plain": [
       "(311, 44)"
      ]
     },
     "execution_count": 217,
     "metadata": {},
     "output_type": "execute_result"
    }
   ],
   "source": [
    "cards.shape"
   ]
  },
  {
   "cell_type": "code",
   "execution_count": 219,
   "id": "personal-librarian",
   "metadata": {},
   "outputs": [
    {
     "name": "stdout",
     "output_type": "stream",
     "text": [
      "WARNING - THERE ARE NOVEL FIELDS IN THE CURRENT CARD DATA SET.\n",
      "novel\n",
      "{'isStorySpotlight', 'isAlternative'}\n",
      "  isStorySpotlight isAlternative\n",
      "0              NaN           NaN\n",
      "1              NaN           NaN\n",
      "2              NaN           NaN\n",
      "3              NaN           NaN\n",
      "4              NaN           NaN\n"
     ]
    }
   ],
   "source": [
    "\n",
    "#define standard schema for postgreSQL database\n",
    "prim_key = 'uuid'\n",
    "core_fields = ['uuid','name', 'rarity', 'setCode', 'types', 'keywords', 'colorIdentity', 'colors', 'convertedManaCost', 'loyalty', 'manaCost', 'subtypes', 'supertypes', 'text', 'type', 'power', 'toughness']\n",
    "demand_fields = ['uuid','edhrecRank']\n",
    "identifiers_fields = ['uuid','identifiers']\n",
    "detritus_fields = ['uuid','number', 'frameEffects', 'artist', 'availability', 'borderColor', 'foreignData', 'frameVersion', 'hasFoil', 'hasNonFoil', 'isReprint', 'layout', 'leadershipSkills', 'legalities', 'printings', 'purchaseUrls', 'rulings', 'variations', 'flavorText', 'isPromo', 'isStarter', 'promoTypes', 'watermark', 'originalText', 'originalType']\n",
    "\n",
    "pre_defined_fields = set(core_fields + demand_fields + identifiers_fields + detritus_fields)\n",
    "data_set_fields = set(cards.columns)\n",
    "\n",
    "gap_type, diff_fields = check_column_completeness(pre_defined_fields, data_set_fields) \n",
    "print(gap_type)\n",
    "print(diff_fields)\n",
    "\n",
    "\n",
    "if gap_type == 'missing':\n",
    "    cards[list(diff_fields)] = np.nan\n",
    "elif gap_type == 'novel':\n",
    "    print(cards[list(diff_fields)].head())\n",
    "\n"
   ]
  },
  {
   "cell_type": "code",
   "execution_count": 222,
   "id": "suspected-quick",
   "metadata": {},
   "outputs": [
    {
     "name": "stdout",
     "output_type": "stream",
     "text": [
      "Ok to add novel fields to detritus? y or nn\n"
     ]
    }
   ],
   "source": [
    "#\n",
    "#workaround until better trapping for both missing and novel fields.\n",
    "#cards['watermark'] = np.nan\n",
    "#\n",
    "\n",
    "\n",
    "id_fields_dicts = ['identifiers']\n",
    "detritus_fields_dicts = ['foreignData', 'rulings', 'leadershipSkills', 'legalities', 'purchaseUrls']\n",
    "add_detritus = input('Ok to add novel fields to detritus? y or n').lower()\n",
    "if add_detritus == 'y':\n",
    "    detritus_fields_dicts.append(list(diff_fields))\n",
    "\n",
    "core = cards[core_fields]\n",
    "demand = cards[demand_fields]\n",
    "\n",
    "detritus = build_combo_data(detritus_fields, detritus_fields_dicts, cards)\n",
    "identifiers = build_combo_data(identifiers_fields, id_fields_dicts, cards)\n",
    "\n",
    "tables = {\"core\":core, \"demand\":demand, \"identifiers\":identifiers, \"detritus\":detritus}"
   ]
  },
  {
   "cell_type": "code",
   "execution_count": 223,
   "id": "blind-sandwich",
   "metadata": {},
   "outputs": [
    {
     "name": "stdout",
     "output_type": "stream",
     "text": [
      "<class 'pandas.core.frame.DataFrame'>\n",
      "RangeIndex: 311 entries, 0 to 310\n",
      "Data columns (total 25 columns):\n",
      " #   Column            Non-Null Count  Dtype  \n",
      "---  ------            --------------  -----  \n",
      " 0   uuid              311 non-null    object \n",
      " 1   number            311 non-null    object \n",
      " 2   frameEffects      21 non-null     object \n",
      " 3   artist            311 non-null    object \n",
      " 4   availability      311 non-null    object \n",
      " 5   borderColor       311 non-null    object \n",
      " 6   foreignData       311 non-null    object \n",
      " 7   frameVersion      311 non-null    object \n",
      " 8   hasFoil           311 non-null    bool   \n",
      " 9   hasNonFoil        311 non-null    bool   \n",
      " 10  isReprint         28 non-null     object \n",
      " 11  layout            311 non-null    object \n",
      " 12  leadershipSkills  311 non-null    object \n",
      " 13  legalities        311 non-null    object \n",
      " 14  printings         311 non-null    object \n",
      " 15  purchaseUrls      311 non-null    object \n",
      " 16  rulings           311 non-null    object \n",
      " 17  variations        87 non-null     object \n",
      " 18  flavorText        178 non-null    object \n",
      " 19  isPromo           1 non-null      object \n",
      " 20  isStarter         11 non-null     object \n",
      " 21  promoTypes        37 non-null     object \n",
      " 22  watermark         0 non-null      float64\n",
      " 23  originalText      270 non-null    object \n",
      " 24  originalType      275 non-null    object \n",
      "dtypes: bool(2), float64(1), object(22)\n",
      "memory usage: 56.6+ KB\n"
     ]
    }
   ],
   "source": [
    "detritus.info()\n"
   ]
  },
  {
   "cell_type": "code",
   "execution_count": 224,
   "id": "inner-bronze",
   "metadata": {},
   "outputs": [
    {
     "data": {
      "text/html": [
       "<div>\n",
       "<style scoped>\n",
       "    .dataframe tbody tr th:only-of-type {\n",
       "        vertical-align: middle;\n",
       "    }\n",
       "\n",
       "    .dataframe tbody tr th {\n",
       "        vertical-align: top;\n",
       "    }\n",
       "\n",
       "    .dataframe thead th {\n",
       "        text-align: right;\n",
       "    }\n",
       "</style>\n",
       "<table border=\"1\" class=\"dataframe\">\n",
       "  <thead>\n",
       "    <tr style=\"text-align: right;\">\n",
       "      <th></th>\n",
       "      <th>isReprint</th>\n",
       "      <th>layout</th>\n",
       "      <th>leadershipSkills</th>\n",
       "      <th>legalities</th>\n",
       "      <th>printings</th>\n",
       "    </tr>\n",
       "  </thead>\n",
       "  <tbody>\n",
       "    <tr>\n",
       "      <th>0</th>\n",
       "      <td>NaN</td>\n",
       "      <td>normal</td>\n",
       "      <td>{'brawl': False, 'commander': False, 'oathbrea...</td>\n",
       "      <td>{'commander': 'Legal', 'duel': 'Legal', 'gladi...</td>\n",
       "      <td>[PRM, PWAR, SLD, WAR]</td>\n",
       "    </tr>\n",
       "    <tr>\n",
       "      <th>1</th>\n",
       "      <td>True</td>\n",
       "      <td>normal</td>\n",
       "      <td>nan</td>\n",
       "      <td>{'commander': 'Legal', 'duel': 'Legal', 'gladi...</td>\n",
       "      <td>[C13, DDH, IMA, M11, M15, M19, MB1, WAR]</td>\n",
       "    </tr>\n",
       "    <tr>\n",
       "      <th>2</th>\n",
       "      <td>NaN</td>\n",
       "      <td>normal</td>\n",
       "      <td>nan</td>\n",
       "      <td>{'commander': 'Legal', 'duel': 'Legal', 'gladi...</td>\n",
       "      <td>[JMP, WAR]</td>\n",
       "    </tr>\n",
       "    <tr>\n",
       "      <th>3</th>\n",
       "      <td>NaN</td>\n",
       "      <td>normal</td>\n",
       "      <td>nan</td>\n",
       "      <td>{'commander': 'Legal', 'duel': 'Legal', 'gladi...</td>\n",
       "      <td>[JMP, MB1, WAR]</td>\n",
       "    </tr>\n",
       "    <tr>\n",
       "      <th>4</th>\n",
       "      <td>NaN</td>\n",
       "      <td>normal</td>\n",
       "      <td>nan</td>\n",
       "      <td>{'commander': 'Legal', 'duel': 'Legal', 'gladi...</td>\n",
       "      <td>[WAR]</td>\n",
       "    </tr>\n",
       "    <tr>\n",
       "      <th>...</th>\n",
       "      <td>...</td>\n",
       "      <td>...</td>\n",
       "      <td>...</td>\n",
       "      <td>...</td>\n",
       "      <td>...</td>\n",
       "    </tr>\n",
       "    <tr>\n",
       "      <th>306</th>\n",
       "      <td>NaN</td>\n",
       "      <td>normal</td>\n",
       "      <td>{'brawl': False, 'commander': False, 'oathbrea...</td>\n",
       "      <td>{'commander': 'Legal', 'duel': 'Legal', 'gladi...</td>\n",
       "      <td>[PRM, PWAR, SLD, WAR]</td>\n",
       "    </tr>\n",
       "    <tr>\n",
       "      <th>307</th>\n",
       "      <td>NaN</td>\n",
       "      <td>normal</td>\n",
       "      <td>{'brawl': False, 'commander': False, 'oathbrea...</td>\n",
       "      <td>{'commander': 'Legal', 'duel': 'Legal', 'gladi...</td>\n",
       "      <td>[PRM, PWAR, SLD, WAR]</td>\n",
       "    </tr>\n",
       "    <tr>\n",
       "      <th>308</th>\n",
       "      <td>NaN</td>\n",
       "      <td>normal</td>\n",
       "      <td>{'brawl': False, 'commander': False, 'oathbrea...</td>\n",
       "      <td>{'commander': 'Legal', 'duel': 'Legal', 'gladi...</td>\n",
       "      <td>[PPRO, PRM, PWAR, SLD, WAR]</td>\n",
       "    </tr>\n",
       "    <tr>\n",
       "      <th>309</th>\n",
       "      <td>NaN</td>\n",
       "      <td>normal</td>\n",
       "      <td>{'brawl': False, 'commander': False, 'oathbrea...</td>\n",
       "      <td>{'commander': 'Legal', 'duel': 'Legal', 'gladi...</td>\n",
       "      <td>[PRM, PWAR, SLD, WAR]</td>\n",
       "    </tr>\n",
       "    <tr>\n",
       "      <th>310</th>\n",
       "      <td>NaN</td>\n",
       "      <td>normal</td>\n",
       "      <td>{'brawl': False, 'commander': False, 'oathbrea...</td>\n",
       "      <td>{'commander': 'Legal', 'duel': 'Legal', 'gladi...</td>\n",
       "      <td>[PPRO, PRM, PWAR, SLD, WAR]</td>\n",
       "    </tr>\n",
       "  </tbody>\n",
       "</table>\n",
       "<p>311 rows × 5 columns</p>\n",
       "</div>"
      ],
      "text/plain": [
       "    isReprint  layout                                   leadershipSkills  \\\n",
       "0         NaN  normal  {'brawl': False, 'commander': False, 'oathbrea...   \n",
       "1        True  normal                                                nan   \n",
       "2         NaN  normal                                                nan   \n",
       "3         NaN  normal                                                nan   \n",
       "4         NaN  normal                                                nan   \n",
       "..        ...     ...                                                ...   \n",
       "306       NaN  normal  {'brawl': False, 'commander': False, 'oathbrea...   \n",
       "307       NaN  normal  {'brawl': False, 'commander': False, 'oathbrea...   \n",
       "308       NaN  normal  {'brawl': False, 'commander': False, 'oathbrea...   \n",
       "309       NaN  normal  {'brawl': False, 'commander': False, 'oathbrea...   \n",
       "310       NaN  normal  {'brawl': False, 'commander': False, 'oathbrea...   \n",
       "\n",
       "                                            legalities  \\\n",
       "0    {'commander': 'Legal', 'duel': 'Legal', 'gladi...   \n",
       "1    {'commander': 'Legal', 'duel': 'Legal', 'gladi...   \n",
       "2    {'commander': 'Legal', 'duel': 'Legal', 'gladi...   \n",
       "3    {'commander': 'Legal', 'duel': 'Legal', 'gladi...   \n",
       "4    {'commander': 'Legal', 'duel': 'Legal', 'gladi...   \n",
       "..                                                 ...   \n",
       "306  {'commander': 'Legal', 'duel': 'Legal', 'gladi...   \n",
       "307  {'commander': 'Legal', 'duel': 'Legal', 'gladi...   \n",
       "308  {'commander': 'Legal', 'duel': 'Legal', 'gladi...   \n",
       "309  {'commander': 'Legal', 'duel': 'Legal', 'gladi...   \n",
       "310  {'commander': 'Legal', 'duel': 'Legal', 'gladi...   \n",
       "\n",
       "                                    printings  \n",
       "0                       [PRM, PWAR, SLD, WAR]  \n",
       "1    [C13, DDH, IMA, M11, M15, M19, MB1, WAR]  \n",
       "2                                  [JMP, WAR]  \n",
       "3                             [JMP, MB1, WAR]  \n",
       "4                                       [WAR]  \n",
       "..                                        ...  \n",
       "306                     [PRM, PWAR, SLD, WAR]  \n",
       "307                     [PRM, PWAR, SLD, WAR]  \n",
       "308               [PPRO, PRM, PWAR, SLD, WAR]  \n",
       "309                     [PRM, PWAR, SLD, WAR]  \n",
       "310               [PPRO, PRM, PWAR, SLD, WAR]  \n",
       "\n",
       "[311 rows x 5 columns]"
      ]
     },
     "execution_count": 224,
     "metadata": {},
     "output_type": "execute_result"
    }
   ],
   "source": [
    "detritus[['isReprint', 'layout', 'leadershipSkills', 'legalities', 'printings']]"
   ]
  },
  {
   "cell_type": "code",
   "execution_count": 225,
   "id": "hollywood-tiffany",
   "metadata": {},
   "outputs": [
    {
     "name": "stdout",
     "output_type": "stream",
     "text": [
      "Connecting to PostgreSQL database...\n",
      "Connection successful\n"
     ]
    }
   ],
   "source": [
    "conn = connect(con_details)"
   ]
  },
  {
   "cell_type": "code",
   "execution_count": 226,
   "id": "accompanied-receptor",
   "metadata": {},
   "outputs": [
    {
     "name": "stdout",
     "output_type": "stream",
     "text": [
      "Successful updating of core\n",
      "Successful updating of demand\n",
      "Successful updating of identifiers\n",
      "Successful updating of detritus\n"
     ]
    }
   ],
   "source": [
    "for table, data in tables.items():\n",
    "    add_new_card_data(con_details, data, table)"
   ]
  },
  {
   "cell_type": "code",
   "execution_count": 227,
   "id": "union-knife",
   "metadata": {},
   "outputs": [
    {
     "data": {
      "text/html": [
       "<div>\n",
       "<style scoped>\n",
       "    .dataframe tbody tr th:only-of-type {\n",
       "        vertical-align: middle;\n",
       "    }\n",
       "\n",
       "    .dataframe tbody tr th {\n",
       "        vertical-align: top;\n",
       "    }\n",
       "\n",
       "    .dataframe thead th {\n",
       "        text-align: right;\n",
       "    }\n",
       "</style>\n",
       "<table border=\"1\" class=\"dataframe\">\n",
       "  <thead>\n",
       "    <tr style=\"text-align: right;\">\n",
       "      <th></th>\n",
       "      <th>uuid</th>\n",
       "      <th>name</th>\n",
       "      <th>rarity</th>\n",
       "      <th>setCode</th>\n",
       "      <th>types</th>\n",
       "      <th>keywords</th>\n",
       "      <th>colorIdentity</th>\n",
       "      <th>colors</th>\n",
       "      <th>convertedManaCost</th>\n",
       "      <th>loyalty</th>\n",
       "      <th>manaCost</th>\n",
       "      <th>subtypes</th>\n",
       "      <th>supertypes</th>\n",
       "      <th>text</th>\n",
       "      <th>type</th>\n",
       "      <th>power</th>\n",
       "      <th>toughness</th>\n",
       "    </tr>\n",
       "  </thead>\n",
       "  <tbody>\n",
       "    <tr>\n",
       "      <th>0</th>\n",
       "      <td>0a679f46-9f50-5ac1-a6bf-c802c67fc0a0</td>\n",
       "      <td>Karn, the Great Creator</td>\n",
       "      <td>rare</td>\n",
       "      <td>WAR</td>\n",
       "      <td>[Planeswalker]</td>\n",
       "      <td>NaN</td>\n",
       "      <td>[]</td>\n",
       "      <td>[]</td>\n",
       "      <td>4.0</td>\n",
       "      <td>5</td>\n",
       "      <td>{4}</td>\n",
       "      <td>[Karn]</td>\n",
       "      <td>[Legendary]</td>\n",
       "      <td>Activated abilities of artifacts your opponent...</td>\n",
       "      <td>Legendary Planeswalker — Karn</td>\n",
       "      <td>NaN</td>\n",
       "      <td>NaN</td>\n",
       "    </tr>\n",
       "    <tr>\n",
       "      <th>1</th>\n",
       "      <td>d451691b-6cc7-5ea7-968b-2abae1beb622</td>\n",
       "      <td>Ajani's Pridemate</td>\n",
       "      <td>uncommon</td>\n",
       "      <td>WAR</td>\n",
       "      <td>[Creature]</td>\n",
       "      <td>NaN</td>\n",
       "      <td>[W]</td>\n",
       "      <td>[W]</td>\n",
       "      <td>2.0</td>\n",
       "      <td>NaN</td>\n",
       "      <td>{1}{W}</td>\n",
       "      <td>[Cat, Soldier]</td>\n",
       "      <td>[]</td>\n",
       "      <td>Whenever you gain life, put a +1/+1 counter on...</td>\n",
       "      <td>Creature — Cat Soldier</td>\n",
       "      <td>2</td>\n",
       "      <td>2</td>\n",
       "    </tr>\n",
       "    <tr>\n",
       "      <th>2</th>\n",
       "      <td>470332c9-e7d4-5b11-b0ca-4c9f877f8e5c</td>\n",
       "      <td>Battlefield Promotion</td>\n",
       "      <td>common</td>\n",
       "      <td>WAR</td>\n",
       "      <td>[Instant]</td>\n",
       "      <td>NaN</td>\n",
       "      <td>[W]</td>\n",
       "      <td>[W]</td>\n",
       "      <td>2.0</td>\n",
       "      <td>NaN</td>\n",
       "      <td>{1}{W}</td>\n",
       "      <td>[]</td>\n",
       "      <td>[]</td>\n",
       "      <td>Put a +1/+1 counter on target creature. That c...</td>\n",
       "      <td>Instant</td>\n",
       "      <td>NaN</td>\n",
       "      <td>NaN</td>\n",
       "    </tr>\n",
       "    <tr>\n",
       "      <th>3</th>\n",
       "      <td>4b60a0b8-ddee-5a88-a578-22fb009c117e</td>\n",
       "      <td>Bulwark Giant</td>\n",
       "      <td>common</td>\n",
       "      <td>WAR</td>\n",
       "      <td>[Creature]</td>\n",
       "      <td>NaN</td>\n",
       "      <td>[W]</td>\n",
       "      <td>[W]</td>\n",
       "      <td>6.0</td>\n",
       "      <td>NaN</td>\n",
       "      <td>{5}{W}</td>\n",
       "      <td>[Giant, Soldier]</td>\n",
       "      <td>[]</td>\n",
       "      <td>When Bulwark Giant enters the battlefield, you...</td>\n",
       "      <td>Creature — Giant Soldier</td>\n",
       "      <td>3</td>\n",
       "      <td>6</td>\n",
       "    </tr>\n",
       "    <tr>\n",
       "      <th>4</th>\n",
       "      <td>01013cab-be73-532f-b6bf-0f24d0c3792f</td>\n",
       "      <td>Enforcer Griffin</td>\n",
       "      <td>common</td>\n",
       "      <td>WAR</td>\n",
       "      <td>[Creature]</td>\n",
       "      <td>[Flying]</td>\n",
       "      <td>[W]</td>\n",
       "      <td>[W]</td>\n",
       "      <td>5.0</td>\n",
       "      <td>NaN</td>\n",
       "      <td>{4}{W}</td>\n",
       "      <td>[Griffin]</td>\n",
       "      <td>[]</td>\n",
       "      <td>Flying</td>\n",
       "      <td>Creature — Griffin</td>\n",
       "      <td>3</td>\n",
       "      <td>4</td>\n",
       "    </tr>\n",
       "  </tbody>\n",
       "</table>\n",
       "</div>"
      ],
      "text/plain": [
       "                                   uuid                     name    rarity  \\\n",
       "0  0a679f46-9f50-5ac1-a6bf-c802c67fc0a0  Karn, the Great Creator      rare   \n",
       "1  d451691b-6cc7-5ea7-968b-2abae1beb622        Ajani's Pridemate  uncommon   \n",
       "2  470332c9-e7d4-5b11-b0ca-4c9f877f8e5c    Battlefield Promotion    common   \n",
       "3  4b60a0b8-ddee-5a88-a578-22fb009c117e            Bulwark Giant    common   \n",
       "4  01013cab-be73-532f-b6bf-0f24d0c3792f         Enforcer Griffin    common   \n",
       "\n",
       "  setCode           types  keywords colorIdentity colors  convertedManaCost  \\\n",
       "0     WAR  [Planeswalker]       NaN            []     []                4.0   \n",
       "1     WAR      [Creature]       NaN           [W]    [W]                2.0   \n",
       "2     WAR       [Instant]       NaN           [W]    [W]                2.0   \n",
       "3     WAR      [Creature]       NaN           [W]    [W]                6.0   \n",
       "4     WAR      [Creature]  [Flying]           [W]    [W]                5.0   \n",
       "\n",
       "  loyalty manaCost          subtypes   supertypes  \\\n",
       "0       5      {4}            [Karn]  [Legendary]   \n",
       "1     NaN   {1}{W}    [Cat, Soldier]           []   \n",
       "2     NaN   {1}{W}                []           []   \n",
       "3     NaN   {5}{W}  [Giant, Soldier]           []   \n",
       "4     NaN   {4}{W}         [Griffin]           []   \n",
       "\n",
       "                                                text  \\\n",
       "0  Activated abilities of artifacts your opponent...   \n",
       "1  Whenever you gain life, put a +1/+1 counter on...   \n",
       "2  Put a +1/+1 counter on target creature. That c...   \n",
       "3  When Bulwark Giant enters the battlefield, you...   \n",
       "4                                             Flying   \n",
       "\n",
       "                            type power toughness  \n",
       "0  Legendary Planeswalker — Karn   NaN       NaN  \n",
       "1         Creature — Cat Soldier     2         2  \n",
       "2                        Instant   NaN       NaN  \n",
       "3       Creature — Giant Soldier     3         6  \n",
       "4             Creature — Griffin     3         4  "
      ]
     },
     "execution_count": 227,
     "metadata": {},
     "output_type": "execute_result"
    }
   ],
   "source": [
    "core.head()"
   ]
  }
 ],
 "metadata": {
  "kernelspec": {
   "display_name": "Python 3",
   "language": "python",
   "name": "python3"
  },
  "language_info": {
   "codemirror_mode": {
    "name": "ipython",
    "version": 3
   },
   "file_extension": ".py",
   "mimetype": "text/x-python",
   "name": "python",
   "nbconvert_exporter": "python",
   "pygments_lexer": "ipython3",
   "version": "3.7.9"
  }
 },
 "nbformat": 4,
 "nbformat_minor": 5
}
